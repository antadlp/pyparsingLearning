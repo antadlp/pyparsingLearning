{
 "cells": [
  {
   "cell_type": "markdown",
   "metadata": {},
   "source": [
    "# Learning from:\n",
    "\n",
    "Getting Started with Pyparsing by Paul McGuire Publisher: O'Reilly Media \n",
    "http://shop.oreilly.com/product/9780596514235.do\n"
   ]
  },
  {
   "cell_type": "code",
   "execution_count": 130,
   "metadata": {
    "collapsed": true
   },
   "outputs": [],
   "source": [
    "from pyparsing import *"
   ]
  },
  {
   "cell_type": "markdown",
   "metadata": {},
   "source": [
    "### \"Hello World ! on Steroids\" \n",
    "page 9. \n",
    "\n",
    "The task is to write a parser for these strings:\n",
    "\n",
    "Hello, World! <br>\n",
    "Hi, Mom! <br>\n",
    "Good morning, Miss Crabtree!   \n",
    "Yo, Adrian!   \n",
    "Whattup, G? <br>\n",
    "How's it goin', Dude? <br>\n",
    "Hey, Jude! <br>\n",
    "Goodbye, Mr. Chips! <br>\n",
    "\n",
    "\n"
   ]
  },
  {
   "cell_type": "markdown",
   "metadata": {},
   "source": [
    "Giving the input values with a list of strings:"
   ]
  },
  {
   "cell_type": "code",
   "execution_count": 131,
   "metadata": {
    "collapsed": true
   },
   "outputs": [],
   "source": [
    "tests=['Hello, World!', 'Hi, Mom!', \n",
    "      'Good morning, Miss Crabtree!',\n",
    "      'Yo, Adrian!',\n",
    "      'Whattup, G?',\n",
    "      'Hey, Jude!',\n",
    "      'Goodbye, Mr. Chips!',\n",
    "      'How\\'s it going\\', Dude?']"
   ]
  },
  {
   "cell_type": "markdown",
   "metadata": {},
   "source": [
    "Printing the input values to check:"
   ]
  },
  {
   "cell_type": "code",
   "execution_count": 132,
   "metadata": {
    "collapsed": false
   },
   "outputs": [
    {
     "name": "stdout",
     "output_type": "stream",
     "text": [
      "['Hello, World!', 'Hi, Mom!', 'Good morning, Miss Crabtree!', 'Yo, Adrian!', 'Whattup, G?', 'Hey, Jude!', 'Goodbye, Mr. Chips!', \"How's it going', Dude?\"]\n"
     ]
    }
   ],
   "source": [
    "print(tests)"
   ]
  },
  {
   "cell_type": "markdown",
   "metadata": {},
   "source": [
    "\"The first step is to identify the pattern that they all follow\" <br>\n",
    "\n",
    "writing this pattern as a BNF:\n",
    "\n",
    "greeting ::= salutation comma greetee endpunc\n",
    "salutation ::= word+ <br>\n",
    "comma ::= , <br>\n",
    "greetee ::= word+ <br>\n",
    "word ::= a collection of one or more characters, which are any alpha or 'or <br>\n",
    "endpunc ::= ! | ? <br>\n",
    "\n",
    "\n"
   ]
  },
  {
   "cell_type": "code",
   "execution_count": 133,
   "metadata": {
    "collapsed": false
   },
   "outputs": [],
   "source": [
    "word = Word(alphas+\"'.\")\n",
    "salutation = OneOrMore(word)\n",
    "comma = Literal(\",\")\n",
    "greetee = OneOrMore(word)\n",
    "endpunc = oneOf(\"! ?\")\n",
    "greeting = salutation + comma + greetee + endpunc\n",
    "\n"
   ]
  },
  {
   "cell_type": "markdown",
   "metadata": {},
   "source": [
    "the greeting variable has the 'formula' for the appropriate parse and is like an object that can do the parse and other operations. Doing the parse for the element 3 in the list (arrays in python begin with the 0 element)."
   ]
  },
  {
   "cell_type": "code",
   "execution_count": 134,
   "metadata": {
    "collapsed": false
   },
   "outputs": [
    {
     "data": {
      "text/plain": [
       "(['Good', 'morning', ',', 'Miss', 'Crabtree', '!'], {})"
      ]
     },
     "execution_count": 134,
     "metadata": {},
     "output_type": "execute_result"
    }
   ],
   "source": [
    "greeting.parseString(tests[2])"
   ]
  },
  {
   "cell_type": "markdown",
   "metadata": {},
   "source": [
    "Doing the parse for all the items in the list"
   ]
  },
  {
   "cell_type": "code",
   "execution_count": 135,
   "metadata": {
    "collapsed": false
   },
   "outputs": [
    {
     "name": "stdout",
     "output_type": "stream",
     "text": [
      "['Hello', ',', 'World', '!']\n",
      "['Hi', ',', 'Mom', '!']\n",
      "['Good', 'morning', ',', 'Miss', 'Crabtree', '!']\n",
      "['Yo', ',', 'Adrian', '!']\n",
      "['Whattup', ',', 'G', '?']\n",
      "['Hey', ',', 'Jude', '!']\n",
      "['Goodbye', ',', 'Mr.', 'Chips', '!']\n",
      "[\"How's\", 'it', \"going'\", ',', 'Dude', '?']\n"
     ]
    }
   ],
   "source": [
    "for t in tests:\n",
    "    view = greeting.parseString(t)\n",
    "    print(view)"
   ]
  },
  {
   "cell_type": "markdown",
   "metadata": {},
   "source": [
    "\"to identify the tokens that compose the initial part of the greeting--the salutation--we need to iterate over the results until we reach the comma token:\""
   ]
  },
  {
   "cell_type": "code",
   "execution_count": 136,
   "metadata": {
    "collapsed": false
   },
   "outputs": [
    {
     "name": "stdout",
     "output_type": "stream",
     "text": [
      "['Hello']\n",
      "['Hi']\n",
      "['Good', 'morning']\n",
      "['Yo']\n",
      "['Whattup']\n",
      "['Hey']\n",
      "['Goodbye']\n",
      "[\"How's\", 'it', \"going'\"]\n"
     ]
    }
   ],
   "source": [
    "for t in tests:\n",
    "    results = greeting.parseString(t)\n",
    "    salutation = []\n",
    "    for token in results:\n",
    "        if token == \",\": break\n",
    "        salutation.append(token)\n",
    "    print(salutation) \n",
    "        \n",
    "    "
   ]
  },
  {
   "cell_type": "markdown",
   "metadata": {
    "collapsed": true
   },
   "source": [
    "\"Since we know that the salutation and greetee parts of the greeting are logical groups, we can use pyparsing's Group class to give more structure to the returned results. By changing the definitions of salutation and greetee to:\"   (not so clear)"
   ]
  },
  {
   "cell_type": "code",
   "execution_count": 137,
   "metadata": {
    "collapsed": true
   },
   "outputs": [],
   "source": [
    "salutation = Group( OneOrMore(word))"
   ]
  },
  {
   "cell_type": "code",
   "execution_count": 138,
   "metadata": {
    "collapsed": false
   },
   "outputs": [
    {
     "name": "stdout",
     "output_type": "stream",
     "text": [
      "Group:({W:(ABCD...)}...)\n"
     ]
    }
   ],
   "source": [
    "print(salutation)"
   ]
  },
  {
   "cell_type": "code",
   "execution_count": 139,
   "metadata": {
    "collapsed": true
   },
   "outputs": [],
   "source": [
    "greetee = Group( OneOrMore(word) )"
   ]
  },
  {
   "cell_type": "code",
   "execution_count": 140,
   "metadata": {
    "collapsed": false
   },
   "outputs": [
    {
     "name": "stdout",
     "output_type": "stream",
     "text": [
      "Group:({W:(ABCD...)}...)\n"
     ]
    }
   ],
   "source": [
    "print(greetee)"
   ]
  },
  {
   "cell_type": "markdown",
   "metadata": {},
   "source": [
    "The results are not viewed as in the example"
   ]
  },
  {
   "cell_type": "code",
   "execution_count": 141,
   "metadata": {
    "collapsed": false
   },
   "outputs": [
    {
     "name": "stdout",
     "output_type": "stream",
     "text": [
      "['Hello', ',', 'World', '!']\n",
      "['Hi', ',', 'Mom', '!']\n",
      "['Good', 'morning', ',', 'Miss', 'Crabtree', '!']\n",
      "['Yo', ',', 'Adrian', '!']\n",
      "['Whattup', ',', 'G', '?']\n",
      "['Hey', ',', 'Jude', '!']\n",
      "['Goodbye', ',', 'Mr.', 'Chips', '!']\n",
      "[\"How's\", 'it', \"going'\", ',', 'Dude', '?']\n"
     ]
    }
   ],
   "source": [
    "for t in tests:\n",
    "    view = greeting.parseString(t)\n",
    "    print(view)"
   ]
  },
  {
   "cell_type": "markdown",
   "metadata": {},
   "source": [
    "Maybe declaring again the structure of the parse, but now with the Group class "
   ]
  },
  {
   "cell_type": "code",
   "execution_count": 142,
   "metadata": {
    "collapsed": true
   },
   "outputs": [],
   "source": [
    "word = Word(alphas+\"'.\")\n",
    "salutation = Group(OneOrMore(word))\n",
    "comma = Literal(\",\")\n",
    "greetee = Group(OneOrMore(word))\n",
    "endpunc = oneOf(\"! ?\")\n",
    "greeting = salutation + comma + greetee + endpunc"
   ]
  },
  {
   "cell_type": "code",
   "execution_count": 143,
   "metadata": {
    "collapsed": false
   },
   "outputs": [
    {
     "name": "stdout",
     "output_type": "stream",
     "text": [
      "[['Hello'], ',', ['World'], '!']\n",
      "[['Hi'], ',', ['Mom'], '!']\n",
      "[['Good', 'morning'], ',', ['Miss', 'Crabtree'], '!']\n",
      "[['Yo'], ',', ['Adrian'], '!']\n",
      "[['Whattup'], ',', ['G'], '?']\n",
      "[['Hey'], ',', ['Jude'], '!']\n",
      "[['Goodbye'], ',', ['Mr.', 'Chips'], '!']\n",
      "[[\"How's\", 'it', \"going'\"], ',', ['Dude'], '?']\n"
     ]
    }
   ],
   "source": [
    "for t in tests:\n",
    "    view = greeting.parseString(t)\n",
    "    print(view)"
   ]
  },
  {
   "cell_type": "markdown",
   "metadata": {},
   "source": [
    "Alright, it was necessary to be declared all over again. Just declaring the greeting formula again it's not enough, see [errorJustGreeting](#errorJustGreeting) <!-- How to reference another cell http://stackoverflow.com/a/28080529/7896359 @Amit -->"
   ]
  },
  {
   "cell_type": "markdown",
   "metadata": {},
   "source": [
    "Using list-to-variable assignment to access the different parts:"
   ]
  },
  {
   "cell_type": "code",
   "execution_count": 144,
   "metadata": {
    "collapsed": false
   },
   "outputs": [
    {
     "name": "stdout",
     "output_type": "stream",
     "text": [
      "['Hello'] ['World'] !\n",
      "['Hi'] ['Mom'] !\n",
      "['Good', 'morning'] ['Miss', 'Crabtree'] !\n",
      "['Yo'] ['Adrian'] !\n",
      "['Whattup'] ['G'] ?\n",
      "['Hey'] ['Jude'] !\n",
      "['Goodbye'] ['Mr.', 'Chips'] !\n",
      "[\"How's\", 'it', \"going'\"] ['Dude'] ?\n"
     ]
    }
   ],
   "source": [
    "for t in tests:\n",
    "    salutation, dummy, greetee, endpunc = greeting.parseString(t)\n",
    "    print(salutation, greetee, endpunc)"
   ]
  },
  {
   "cell_type": "markdown",
   "metadata": {},
   "source": [
    "\"The comma is a very important element during parsing, since it shows where the parser stops reading the salutation and starts the greetee. But in the returned results, the comma is not really very interesting at all, and it would be nice to supress it from the returned results. You can do this by wrapping the definition of comma in a pyparsing Supress instance:\""
   ]
  },
  {
   "cell_type": "code",
   "execution_count": 145,
   "metadata": {
    "collapsed": false
   },
   "outputs": [],
   "source": [
    "#comma = Suppress( Literal(\",\")) # or\n",
    "comma = Literal(\",\").suppress() #or\n",
    "#comma = Suppress(\",\") # the three are equivalent"
   ]
  },
  {
   "cell_type": "markdown",
   "metadata": {},
   "source": [
    "<a id='errorJustGreeting'></a>\n",
    "Seeing again the results, now with the suppress command, and declaring again greeting formula"
   ]
  },
  {
   "cell_type": "code",
   "execution_count": 146,
   "metadata": {
    "collapsed": false
   },
   "outputs": [
    {
     "ename": "AttributeError",
     "evalue": "'Suppress' object has no attribute '_ParseResults__tokdict'",
     "output_type": "error",
     "traceback": [
      "\u001b[0;31m---------------------------------------------------------------------------\u001b[0m",
      "\u001b[0;31mAttributeError\u001b[0m                            Traceback (most recent call last)",
      "\u001b[0;32m<ipython-input-146-2898d77a20d2>\u001b[0m in \u001b[0;36m<module>\u001b[0;34m()\u001b[0m\n\u001b[0;32m----> 1\u001b[0;31m \u001b[0mgreeting\u001b[0m \u001b[0;34m=\u001b[0m \u001b[0msalutation\u001b[0m \u001b[0;34m+\u001b[0m \u001b[0mcomma\u001b[0m \u001b[0;34m+\u001b[0m \u001b[0mgreetee\u001b[0m \u001b[0;34m+\u001b[0m \u001b[0mendpunc\u001b[0m\u001b[0;34m\u001b[0m\u001b[0m\n\u001b[0m",
      "\u001b[0;32m/home/antadlp/anaconda3/lib/python3.6/site-packages/pyparsing.py\u001b[0m in \u001b[0;36m__add__\u001b[0;34m(self, other)\u001b[0m\n\u001b[1;32m    635\u001b[0m     \u001b[0;32mdef\u001b[0m \u001b[0m__add__\u001b[0m\u001b[0;34m(\u001b[0m \u001b[0mself\u001b[0m\u001b[0;34m,\u001b[0m \u001b[0mother\u001b[0m \u001b[0;34m)\u001b[0m\u001b[0;34m:\u001b[0m\u001b[0;34m\u001b[0m\u001b[0m\n\u001b[1;32m    636\u001b[0m         \u001b[0mret\u001b[0m \u001b[0;34m=\u001b[0m \u001b[0mself\u001b[0m\u001b[0;34m.\u001b[0m\u001b[0mcopy\u001b[0m\u001b[0;34m(\u001b[0m\u001b[0;34m)\u001b[0m\u001b[0;34m\u001b[0m\u001b[0m\n\u001b[0;32m--> 637\u001b[0;31m         \u001b[0mret\u001b[0m \u001b[0;34m+=\u001b[0m \u001b[0mother\u001b[0m\u001b[0;34m\u001b[0m\u001b[0m\n\u001b[0m\u001b[1;32m    638\u001b[0m         \u001b[0;32mreturn\u001b[0m \u001b[0mret\u001b[0m\u001b[0;34m\u001b[0m\u001b[0m\n\u001b[1;32m    639\u001b[0m \u001b[0;34m\u001b[0m\u001b[0m\n",
      "\u001b[0;32m/home/antadlp/anaconda3/lib/python3.6/site-packages/pyparsing.py\u001b[0m in \u001b[0;36m__iadd__\u001b[0;34m(self, other)\u001b[0m\n\u001b[1;32m    639\u001b[0m \u001b[0;34m\u001b[0m\u001b[0m\n\u001b[1;32m    640\u001b[0m     \u001b[0;32mdef\u001b[0m \u001b[0m__iadd__\u001b[0m\u001b[0;34m(\u001b[0m \u001b[0mself\u001b[0m\u001b[0;34m,\u001b[0m \u001b[0mother\u001b[0m \u001b[0;34m)\u001b[0m\u001b[0;34m:\u001b[0m\u001b[0;34m\u001b[0m\u001b[0m\n\u001b[0;32m--> 641\u001b[0;31m         \u001b[0;32mif\u001b[0m \u001b[0mother\u001b[0m\u001b[0;34m.\u001b[0m\u001b[0m__tokdict\u001b[0m\u001b[0;34m:\u001b[0m\u001b[0;34m\u001b[0m\u001b[0m\n\u001b[0m\u001b[1;32m    642\u001b[0m             \u001b[0moffset\u001b[0m \u001b[0;34m=\u001b[0m \u001b[0mlen\u001b[0m\u001b[0;34m(\u001b[0m\u001b[0mself\u001b[0m\u001b[0;34m.\u001b[0m\u001b[0m__toklist\u001b[0m\u001b[0;34m)\u001b[0m\u001b[0;34m\u001b[0m\u001b[0m\n\u001b[1;32m    643\u001b[0m             \u001b[0maddoffset\u001b[0m \u001b[0;34m=\u001b[0m \u001b[0;32mlambda\u001b[0m \u001b[0ma\u001b[0m\u001b[0;34m:\u001b[0m \u001b[0moffset\u001b[0m \u001b[0;32mif\u001b[0m \u001b[0ma\u001b[0m\u001b[0;34m<\u001b[0m\u001b[0;36m0\u001b[0m \u001b[0;32melse\u001b[0m \u001b[0ma\u001b[0m\u001b[0;34m+\u001b[0m\u001b[0moffset\u001b[0m\u001b[0;34m\u001b[0m\u001b[0m\n",
      "\u001b[0;31mAttributeError\u001b[0m: 'Suppress' object has no attribute '_ParseResults__tokdict'"
     ]
    }
   ],
   "source": [
    "greeting = salutation + comma + greetee + endpunc"
   ]
  },
  {
   "cell_type": "markdown",
   "metadata": {},
   "source": [
    "It seems that it is important to declare all over again"
   ]
  },
  {
   "cell_type": "code",
   "execution_count": 147,
   "metadata": {
    "collapsed": true
   },
   "outputs": [],
   "source": [
    "word = Word(alphas+\"'.\")\n",
    "salutation = Group(OneOrMore(word))\n",
    "comma = Literal(\",\").suppress()\n",
    "greetee = Group(OneOrMore(word))\n",
    "endpunc = oneOf(\"! ?\")\n",
    "greeting = salutation + comma + greetee + endpunc"
   ]
  },
  {
   "cell_type": "code",
   "execution_count": 148,
   "metadata": {
    "collapsed": false
   },
   "outputs": [
    {
     "name": "stdout",
     "output_type": "stream",
     "text": [
      "[['Hello'], ['World'], '!']\n",
      "[['Hi'], ['Mom'], '!']\n",
      "[['Good', 'morning'], ['Miss', 'Crabtree'], '!']\n",
      "[['Yo'], ['Adrian'], '!']\n",
      "[['Whattup'], ['G'], '?']\n",
      "[['Hey'], ['Jude'], '!']\n",
      "[['Goodbye'], ['Mr.', 'Chips'], '!']\n",
      "[[\"How's\", 'it', \"going'\"], ['Dude'], '?']\n"
     ]
    }
   ],
   "source": [
    "for t in tests:\n",
    "    view = greeting.parseString(t)\n",
    "    print(view)"
   ]
  },
  {
   "cell_type": "markdown",
   "metadata": {},
   "source": [
    "\"Now that we have a decent parser and a good way to get out the results, we can start to have fun with the test data. First, let's accumulate the salutations and greetees into lists of their own:\""
   ]
  },
  {
   "cell_type": "code",
   "execution_count": 149,
   "metadata": {
    "collapsed": true
   },
   "outputs": [],
   "source": [
    "salutes=[]"
   ]
  },
  {
   "cell_type": "code",
   "execution_count": 150,
   "metadata": {
    "collapsed": true
   },
   "outputs": [],
   "source": [
    "greetees = []"
   ]
  },
  {
   "cell_type": "code",
   "execution_count": 151,
   "metadata": {
    "collapsed": true
   },
   "outputs": [],
   "source": [
    "for t in tests:\n",
    "    salutation, greetee, endpunc = greeting.parseString(t)\n",
    "    salutes.append( (\" \".join(salutation), endpunc) )\n",
    "    greetees.append( \" \".join(greetee) )"
   ]
  },
  {
   "cell_type": "markdown",
   "metadata": {},
   "source": [
    "Seeing what is in salutes"
   ]
  },
  {
   "cell_type": "code",
   "execution_count": 152,
   "metadata": {
    "collapsed": false
   },
   "outputs": [
    {
     "name": "stdout",
     "output_type": "stream",
     "text": [
      "[('Hello', '!'), ('Hi', '!'), ('Good morning', '!'), ('Yo', '!'), ('Whattup', '?'), ('Hey', '!'), ('Goodbye', '!'), (\"How's it going'\", '?')]\n"
     ]
    }
   ],
   "source": [
    "print(salutes)"
   ]
  },
  {
   "cell_type": "code",
   "execution_count": 153,
   "metadata": {
    "collapsed": false
   },
   "outputs": [
    {
     "name": "stdout",
     "output_type": "stream",
     "text": [
      "('Good morning', '!')\n"
     ]
    }
   ],
   "source": [
    "print(salutes[2])"
   ]
  },
  {
   "cell_type": "code",
   "execution_count": null,
   "metadata": {
    "collapsed": true
   },
   "outputs": [],
   "source": []
  }
 ],
 "metadata": {
  "kernelspec": {
   "display_name": "Python 3",
   "language": "python",
   "name": "python3"
  },
  "language_info": {
   "codemirror_mode": {
    "name": "ipython",
    "version": 3
   },
   "file_extension": ".py",
   "mimetype": "text/x-python",
   "name": "python",
   "nbconvert_exporter": "python",
   "pygments_lexer": "ipython3",
   "version": "3.6.0"
  }
 },
 "nbformat": 4,
 "nbformat_minor": 2
}
