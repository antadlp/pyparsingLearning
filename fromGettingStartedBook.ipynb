{
 "cells": [
  {
   "cell_type": "markdown",
   "metadata": {},
   "source": [
    "# Learning from:\n",
    "\n",
    "Getting Started with Pyparsing by Paul McGuire Publisher: O'Reilly Media \n",
    "http://shop.oreilly.com/product/9780596514235.do\n"
   ]
  },
  {
   "cell_type": "code",
   "execution_count": 6,
   "metadata": {
    "collapsed": true
   },
   "outputs": [],
   "source": [
    "from pyparsing import *"
   ]
  },
  {
   "cell_type": "code",
   "execution_count": 7,
   "metadata": {
    "collapsed": true
   },
   "outputs": [],
   "source": [
    "import random"
   ]
  },
  {
   "cell_type": "markdown",
   "metadata": {},
   "source": [
    "### \"Hello World ! on Steroids\" \n",
    "page 9. \n",
    "\n",
    "The task is to write a parser for these strings:\n",
    "\n",
    "Hello, World! <br>\n",
    "Hi, Mom! <br>\n",
    "Good morning, Miss Crabtree!   \n",
    "Yo, Adrian!   \n",
    "Whattup, G? <br>\n",
    "How's it goin', Dude? <br>\n",
    "Hey, Jude! <br>\n",
    "Goodbye, Mr. Chips! <br>\n",
    "\n",
    "\n"
   ]
  },
  {
   "cell_type": "markdown",
   "metadata": {},
   "source": [
    "Giving the input values with a list of strings:"
   ]
  },
  {
   "cell_type": "code",
   "execution_count": 8,
   "metadata": {
    "collapsed": true
   },
   "outputs": [],
   "source": [
    "tests=['Hello, World!', 'Hi, Mom!', \n",
    "      'Good morning, Miss Crabtree!',\n",
    "      'Yo, Adrian!',\n",
    "      'Whattup, G?',\n",
    "      'Hey, Jude!',\n",
    "      'Goodbye, Mr. Chips!',\n",
    "      'How\\'s it going\\', Dude?']"
   ]
  },
  {
   "cell_type": "markdown",
   "metadata": {},
   "source": [
    "Printing the input values to check:"
   ]
  },
  {
   "cell_type": "code",
   "execution_count": 9,
   "metadata": {
    "collapsed": false
   },
   "outputs": [
    {
     "name": "stdout",
     "output_type": "stream",
     "text": [
      "['Hello, World!', 'Hi, Mom!', 'Good morning, Miss Crabtree!', 'Yo, Adrian!', 'Whattup, G?', 'Hey, Jude!', 'Goodbye, Mr. Chips!', \"How's it going', Dude?\"]\n"
     ]
    }
   ],
   "source": [
    "print(tests)"
   ]
  },
  {
   "cell_type": "markdown",
   "metadata": {},
   "source": [
    "\"The first step is to identify the pattern that they all follow\" <br>\n",
    "\n",
    "writing this pattern as a BNF:\n",
    "\n",
    "greeting ::= salutation comma greetee endpunc\n",
    "salutation ::= word+ <br>\n",
    "comma ::= , <br>\n",
    "greetee ::= word+ <br>\n",
    "word ::= a collection of one or more characters, which are any alpha or 'or <br>\n",
    "endpunc ::= ! | ? <br>\n",
    "\n",
    "\n"
   ]
  },
  {
   "cell_type": "code",
   "execution_count": 10,
   "metadata": {
    "collapsed": false
   },
   "outputs": [],
   "source": [
    "word = Word(alphas+\"'.\")\n",
    "salutation = OneOrMore(word)\n",
    "comma = Literal(\",\")\n",
    "greetee = OneOrMore(word)\n",
    "endpunc = oneOf(\"! ?\")\n",
    "greeting = salutation + comma + greetee + endpunc\n",
    "\n"
   ]
  },
  {
   "cell_type": "markdown",
   "metadata": {},
   "source": [
    "the greeting variable has the 'formula' for the appropriate parse and is like an object that can do the parse and other operations. Doing the parse for the element 3 in the list (arrays in python begin with the 0 element)."
   ]
  },
  {
   "cell_type": "code",
   "execution_count": 11,
   "metadata": {
    "collapsed": false
   },
   "outputs": [
    {
     "data": {
      "text/plain": [
       "(['Good', 'morning', ',', 'Miss', 'Crabtree', '!'], {})"
      ]
     },
     "execution_count": 11,
     "metadata": {},
     "output_type": "execute_result"
    }
   ],
   "source": [
    "greeting.parseString(tests[2])"
   ]
  },
  {
   "cell_type": "markdown",
   "metadata": {},
   "source": [
    "Doing the parse for all the items in the list"
   ]
  },
  {
   "cell_type": "code",
   "execution_count": 12,
   "metadata": {
    "collapsed": false
   },
   "outputs": [
    {
     "name": "stdout",
     "output_type": "stream",
     "text": [
      "['Hello', ',', 'World', '!']\n",
      "['Hi', ',', 'Mom', '!']\n",
      "['Good', 'morning', ',', 'Miss', 'Crabtree', '!']\n",
      "['Yo', ',', 'Adrian', '!']\n",
      "['Whattup', ',', 'G', '?']\n",
      "['Hey', ',', 'Jude', '!']\n",
      "['Goodbye', ',', 'Mr.', 'Chips', '!']\n",
      "[\"How's\", 'it', \"going'\", ',', 'Dude', '?']\n"
     ]
    }
   ],
   "source": [
    "for t in tests:\n",
    "    view = greeting.parseString(t)\n",
    "    print(view)"
   ]
  },
  {
   "cell_type": "markdown",
   "metadata": {},
   "source": [
    "\"to identify the tokens that compose the initial part of the greeting--the salutation--we need to iterate over the results until we reach the comma token:\""
   ]
  },
  {
   "cell_type": "code",
   "execution_count": 13,
   "metadata": {
    "collapsed": false
   },
   "outputs": [
    {
     "name": "stdout",
     "output_type": "stream",
     "text": [
      "['Hello']\n",
      "['Hi']\n",
      "['Good', 'morning']\n",
      "['Yo']\n",
      "['Whattup']\n",
      "['Hey']\n",
      "['Goodbye']\n",
      "[\"How's\", 'it', \"going'\"]\n"
     ]
    }
   ],
   "source": [
    "for t in tests:\n",
    "    results = greeting.parseString(t)\n",
    "    salutation = []\n",
    "    for token in results:\n",
    "        if token == \",\": break\n",
    "        salutation.append(token)\n",
    "    print(salutation) \n",
    "        \n",
    "    "
   ]
  },
  {
   "cell_type": "markdown",
   "metadata": {
    "collapsed": true
   },
   "source": [
    "\"Since we know that the salutation and greetee parts of the greeting are logical groups, we can use pyparsing's Group class to give more structure to the returned results. By changing the definitions of salutation and greetee to:\"   (not so clear)"
   ]
  },
  {
   "cell_type": "code",
   "execution_count": 14,
   "metadata": {
    "collapsed": true
   },
   "outputs": [],
   "source": [
    "salutation = Group( OneOrMore(word))"
   ]
  },
  {
   "cell_type": "code",
   "execution_count": 15,
   "metadata": {
    "collapsed": false
   },
   "outputs": [
    {
     "name": "stdout",
     "output_type": "stream",
     "text": [
      "Group:({W:(ABCD...)}...)\n"
     ]
    }
   ],
   "source": [
    "print(salutation)"
   ]
  },
  {
   "cell_type": "code",
   "execution_count": 16,
   "metadata": {
    "collapsed": true
   },
   "outputs": [],
   "source": [
    "greetee = Group( OneOrMore(word) )"
   ]
  },
  {
   "cell_type": "code",
   "execution_count": 17,
   "metadata": {
    "collapsed": false
   },
   "outputs": [
    {
     "name": "stdout",
     "output_type": "stream",
     "text": [
      "Group:({W:(ABCD...)}...)\n"
     ]
    }
   ],
   "source": [
    "print(greetee)"
   ]
  },
  {
   "cell_type": "markdown",
   "metadata": {},
   "source": [
    "The results are not viewed as in the example"
   ]
  },
  {
   "cell_type": "code",
   "execution_count": 18,
   "metadata": {
    "collapsed": false
   },
   "outputs": [
    {
     "name": "stdout",
     "output_type": "stream",
     "text": [
      "['Hello', ',', 'World', '!']\n",
      "['Hi', ',', 'Mom', '!']\n",
      "['Good', 'morning', ',', 'Miss', 'Crabtree', '!']\n",
      "['Yo', ',', 'Adrian', '!']\n",
      "['Whattup', ',', 'G', '?']\n",
      "['Hey', ',', 'Jude', '!']\n",
      "['Goodbye', ',', 'Mr.', 'Chips', '!']\n",
      "[\"How's\", 'it', \"going'\", ',', 'Dude', '?']\n"
     ]
    }
   ],
   "source": [
    "for t in tests:\n",
    "    view = greeting.parseString(t)\n",
    "    print(view)"
   ]
  },
  {
   "cell_type": "markdown",
   "metadata": {},
   "source": [
    "Maybe declaring again the structure of the parse, but now with the Group class "
   ]
  },
  {
   "cell_type": "code",
   "execution_count": 19,
   "metadata": {
    "collapsed": true
   },
   "outputs": [],
   "source": [
    "word = Word(alphas+\"'.\")\n",
    "salutation = Group(OneOrMore(word))\n",
    "comma = Literal(\",\")\n",
    "greetee = Group(OneOrMore(word))\n",
    "endpunc = oneOf(\"! ?\")\n",
    "greeting = salutation + comma + greetee + endpunc"
   ]
  },
  {
   "cell_type": "code",
   "execution_count": 20,
   "metadata": {
    "collapsed": false
   },
   "outputs": [
    {
     "name": "stdout",
     "output_type": "stream",
     "text": [
      "[['Hello'], ',', ['World'], '!']\n",
      "[['Hi'], ',', ['Mom'], '!']\n",
      "[['Good', 'morning'], ',', ['Miss', 'Crabtree'], '!']\n",
      "[['Yo'], ',', ['Adrian'], '!']\n",
      "[['Whattup'], ',', ['G'], '?']\n",
      "[['Hey'], ',', ['Jude'], '!']\n",
      "[['Goodbye'], ',', ['Mr.', 'Chips'], '!']\n",
      "[[\"How's\", 'it', \"going'\"], ',', ['Dude'], '?']\n"
     ]
    }
   ],
   "source": [
    "for t in tests:\n",
    "    view = greeting.parseString(t)\n",
    "    print(view)"
   ]
  },
  {
   "cell_type": "markdown",
   "metadata": {},
   "source": [
    "Alright, it was necessary to be declared all over again. Just declaring the greeting formula again it's not enough, see [errorJustGreeting](#errorJustGreeting) <!-- How to reference another cell http://stackoverflow.com/a/28080529/7896359 @Amit -->"
   ]
  },
  {
   "cell_type": "markdown",
   "metadata": {},
   "source": [
    "Using list-to-variable assignment to access the different parts:"
   ]
  },
  {
   "cell_type": "code",
   "execution_count": 21,
   "metadata": {
    "collapsed": false
   },
   "outputs": [
    {
     "name": "stdout",
     "output_type": "stream",
     "text": [
      "['Hello'] ['World'] !\n",
      "['Hi'] ['Mom'] !\n",
      "['Good', 'morning'] ['Miss', 'Crabtree'] !\n",
      "['Yo'] ['Adrian'] !\n",
      "['Whattup'] ['G'] ?\n",
      "['Hey'] ['Jude'] !\n",
      "['Goodbye'] ['Mr.', 'Chips'] !\n",
      "[\"How's\", 'it', \"going'\"] ['Dude'] ?\n"
     ]
    }
   ],
   "source": [
    "for t in tests:\n",
    "    salutation, dummy, greetee, endpunc = greeting.parseString(t)\n",
    "    print(salutation, greetee, endpunc)"
   ]
  },
  {
   "cell_type": "markdown",
   "metadata": {},
   "source": [
    "\"The comma is a very important element during parsing, since it shows where the parser stops reading the salutation and starts the greetee. But in the returned results, the comma is not really very interesting at all, and it would be nice to supress it from the returned results. You can do this by wrapping the definition of comma in a pyparsing Supress instance:\""
   ]
  },
  {
   "cell_type": "code",
   "execution_count": 22,
   "metadata": {
    "collapsed": false
   },
   "outputs": [],
   "source": [
    "#comma = Suppress( Literal(\",\")) # or\n",
    "comma = Literal(\",\").suppress() #or\n",
    "#comma = Suppress(\",\") # the three are equivalent"
   ]
  },
  {
   "cell_type": "markdown",
   "metadata": {},
   "source": [
    "<a id='errorJustGreeting'></a>\n",
    "Seeing again the results, now with the suppress command, and declaring again greeting formula"
   ]
  },
  {
   "cell_type": "code",
   "execution_count": 23,
   "metadata": {
    "collapsed": false
   },
   "outputs": [],
   "source": [
    "#greeting = salutation + comma + greetee + endpunc"
   ]
  },
  {
   "cell_type": "markdown",
   "metadata": {},
   "source": [
    "It seems that it is important to declare all over again"
   ]
  },
  {
   "cell_type": "code",
   "execution_count": 24,
   "metadata": {
    "collapsed": true
   },
   "outputs": [],
   "source": [
    "word = Word(alphas+\"'.\")\n",
    "salutation = Group(OneOrMore(word))\n",
    "comma = Literal(\",\").suppress()\n",
    "greetee = Group(OneOrMore(word))\n",
    "endpunc = oneOf(\"! ?\")\n",
    "greeting = salutation + comma + greetee + endpunc"
   ]
  },
  {
   "cell_type": "code",
   "execution_count": 25,
   "metadata": {
    "collapsed": false
   },
   "outputs": [
    {
     "name": "stdout",
     "output_type": "stream",
     "text": [
      "[['Hello'], ['World'], '!']\n",
      "[['Hi'], ['Mom'], '!']\n",
      "[['Good', 'morning'], ['Miss', 'Crabtree'], '!']\n",
      "[['Yo'], ['Adrian'], '!']\n",
      "[['Whattup'], ['G'], '?']\n",
      "[['Hey'], ['Jude'], '!']\n",
      "[['Goodbye'], ['Mr.', 'Chips'], '!']\n",
      "[[\"How's\", 'it', \"going'\"], ['Dude'], '?']\n"
     ]
    }
   ],
   "source": [
    "for t in tests:\n",
    "    view = greeting.parseString(t)\n",
    "    print(view)"
   ]
  },
  {
   "cell_type": "markdown",
   "metadata": {},
   "source": [
    "\"Now that we have a decent parser and a good way to get out the results, we can start to have fun with the test data. First, let's accumulate the salutations and greetees into lists of their own:\""
   ]
  },
  {
   "cell_type": "code",
   "execution_count": 26,
   "metadata": {
    "collapsed": true
   },
   "outputs": [],
   "source": [
    "salutes=[]"
   ]
  },
  {
   "cell_type": "code",
   "execution_count": 27,
   "metadata": {
    "collapsed": true
   },
   "outputs": [],
   "source": [
    "greetees = []"
   ]
  },
  {
   "cell_type": "code",
   "execution_count": 28,
   "metadata": {
    "collapsed": true
   },
   "outputs": [],
   "source": [
    "for t in tests:\n",
    "    salutation, greetee, endpunc = greeting.parseString(t)\n",
    "    salutes.append( (\" \".join(salutation), endpunc) )\n",
    "    greetees.append( \" \".join(greetee) )"
   ]
  },
  {
   "cell_type": "markdown",
   "metadata": {},
   "source": [
    "Seeing what is in salutes"
   ]
  },
  {
   "cell_type": "code",
   "execution_count": 29,
   "metadata": {
    "collapsed": false
   },
   "outputs": [
    {
     "name": "stdout",
     "output_type": "stream",
     "text": [
      "[('Hello', '!'), ('Hi', '!'), ('Good morning', '!'), ('Yo', '!'), ('Whattup', '?'), ('Hey', '!'), ('Goodbye', '!'), (\"How's it going'\", '?')]\n"
     ]
    }
   ],
   "source": [
    "print(salutes)"
   ]
  },
  {
   "cell_type": "code",
   "execution_count": 30,
   "metadata": {
    "collapsed": false
   },
   "outputs": [
    {
     "name": "stdout",
     "output_type": "stream",
     "text": [
      "('Good morning', '!')\n"
     ]
    }
   ],
   "source": [
    "print(salutes[2])"
   ]
  },
  {
   "cell_type": "markdown",
   "metadata": {},
   "source": [
    "what is in greetees"
   ]
  },
  {
   "cell_type": "code",
   "execution_count": 31,
   "metadata": {
    "collapsed": false
   },
   "outputs": [
    {
     "name": "stdout",
     "output_type": "stream",
     "text": [
      "['World', 'Mom', 'Miss Crabtree', 'Adrian', 'G', 'Jude', 'Mr. Chips', 'Dude']\n"
     ]
    }
   ],
   "source": [
    "print(greetees)"
   ]
  },
  {
   "cell_type": "markdown",
   "metadata": {},
   "source": [
    "\"Now that we have collected these assorted names and salutations, we can use them to contrive some additional, never-before-seen greetings and introductions.\""
   ]
  },
  {
   "cell_type": "code",
   "execution_count": 32,
   "metadata": {
    "collapsed": false
   },
   "outputs": [
    {
     "name": "stdout",
     "output_type": "stream",
     "text": [
      "How's it going', Dude?\n",
      "Good morning, Jude!\n",
      "Hello, Adrian!\n",
      "Hi, World!\n",
      "Hi, Mom!\n",
      "Good morning, World!\n",
      "Good morning, Mom!\n",
      "Hello, Miss Crabtree!\n",
      "Whattup, Miss Crabtree?\n",
      "How's it going', Jude?\n",
      "How's it going', Miss Crabtree?\n",
      "Hey, World!\n",
      "Hello, Jude!\n",
      "Whattup, Mr. Chips?\n",
      "Hello, World!\n",
      "Yo, G!\n",
      "Yo, World!\n",
      "Good morning, Dude!\n",
      "Hey, Miss Crabtree!\n",
      "Hey, Jude!\n",
      "Goodbye, G!\n",
      "Yo, Adrian!\n",
      "Good morning, World!\n",
      "Whattup, Jude?\n",
      "How's it going', Miss Crabtree?\n",
      "Good morning, World!\n",
      "Whattup, World?\n",
      "How's it going', Miss Crabtree?\n",
      "Yo, Jude!\n",
      "Yo, Dude!\n",
      "How's it going', G?\n",
      "Good morning, Dude!\n",
      "Goodbye, Adrian!\n",
      "Hi, G!\n",
      "Hi, Dude!\n",
      "Goodbye, Adrian!\n",
      "Goodbye, Adrian!\n",
      "Yo, Dude!\n",
      "Hello, Mom!\n",
      "Hi, Miss Crabtree!\n",
      "Hello, World!\n",
      "Whattup, Dude?\n",
      "Whattup, Mom?\n",
      "Hello, World!\n",
      "Good morning, Jude!\n",
      "Good morning, Jude!\n",
      "Goodbye, G!\n",
      "Hi, Mom!\n",
      "Hey, Adrian!\n",
      "How's it going', Miss Crabtree?\n"
     ]
    }
   ],
   "source": [
    "for i in range(50):\n",
    "    salute = random.choice( salutes )\n",
    "    greetee = random.choice( greetees )\n",
    "    print(\"%s, %s%s\" % ( salute[0], greetee, salute[1] ))"
   ]
  },
  {
   "cell_type": "markdown",
   "metadata": {
    "collapsed": true
   },
   "source": [
    "\"We can also simulate some introductions with the following code:\""
   ]
  },
  {
   "cell_type": "code",
   "execution_count": 33,
   "metadata": {
    "collapsed": false
   },
   "outputs": [
    {
     "name": "stdout",
     "output_type": "stream",
     "text": [
      "Mr. Chips, say \"Yo!\" to Dude.\n",
      "Jude, say \"How's it going'?\" to Jude.\n",
      "Jude, say \"How's it going'?\" to World.\n",
      "Dude, say \"Whattup?\" to World.\n",
      "Mom, say \"Good morning!\" to Dude.\n",
      "Adrian, say \"Whattup?\" to Jude.\n",
      "Adrian, say \"Hey!\" to Jude.\n",
      "Mom, say \"Good morning!\" to Miss Crabtree.\n",
      "Adrian, say \"Yo!\" to G.\n",
      "Jude, say \"Hi!\" to Dude.\n",
      "Jude, say \"Good morning!\" to Mom.\n",
      "Miss Crabtree, say \"Hello!\" to Adrian.\n",
      "Dude, say \"Goodbye!\" to Jude.\n",
      "World, say \"How's it going'?\" to G.\n",
      "World, say \"How's it going'?\" to World.\n",
      "Mr. Chips, say \"How's it going'?\" to World.\n",
      "G, say \"Yo!\" to Mr. Chips.\n",
      "G, say \"Hi!\" to Mr. Chips.\n",
      "Dude, say \"Goodbye!\" to Jude.\n",
      "Adrian, say \"Hi!\" to Adrian.\n",
      "Dude, say \"Hey!\" to Jude.\n",
      "World, say \"Goodbye!\" to World.\n",
      "Mom, say \"Good morning!\" to Dude.\n",
      "Jude, say \"Good morning!\" to Dude.\n",
      "World, say \"Good morning!\" to Miss Crabtree.\n",
      "Jude, say \"Hey!\" to Adrian.\n",
      "World, say \"Yo!\" to Dude.\n",
      "Mr. Chips, say \"Hi!\" to Adrian.\n",
      "Dude, say \"Hey!\" to World.\n",
      "Miss Crabtree, say \"Whattup?\" to Mr. Chips.\n",
      "Adrian, say \"Good morning!\" to G.\n",
      "Mr. Chips, say \"Whattup?\" to Adrian.\n",
      "World, say \"Whattup?\" to Adrian.\n",
      "Adrian, say \"Hey!\" to Dude.\n",
      "Mom, say \"Hey!\" to Dude.\n",
      "Miss Crabtree, say \"Hey!\" to Jude.\n",
      "Dude, say \"Goodbye!\" to Adrian.\n",
      "Mom, say \"How's it going'?\" to Miss Crabtree.\n",
      "Dude, say \"Good morning!\" to Jude.\n",
      "Mom, say \"Hello!\" to Mom.\n",
      "G, say \"Yo!\" to Adrian.\n",
      "Dude, say \"Yo!\" to Adrian.\n",
      "Adrian, say \"Hi!\" to Dude.\n",
      "Jude, say \"Yo!\" to Mr. Chips.\n",
      "G, say \"Hi!\" to Dude.\n",
      "Miss Crabtree, say \"Hello!\" to Mr. Chips.\n",
      "World, say \"Yo!\" to Adrian.\n",
      "G, say \"Yo!\" to Dude.\n",
      "Miss Crabtree, say \"Goodbye!\" to Mr. Chips.\n",
      "World, say \"Yo!\" to Adrian.\n"
     ]
    }
   ],
   "source": [
    "for i in range(50):\n",
    "    print('%s, say \"%s\" to %s.' % (random.choice( greetees ),\n",
    "                                   \"\".join( random.choice( salutes ) ),\n",
    "                                  random.choice( greetees ) ) )"
   ]
  },
  {
   "cell_type": "markdown",
   "metadata": {},
   "source": [
    "### Whitespace markers clutter and distract from the grammar definition "
   ]
  },
  {
   "cell_type": "code",
   "execution_count": 34,
   "metadata": {
    "collapsed": true
   },
   "outputs": [],
   "source": [
    "test = 'abc(1,2,def,5)'"
   ]
  },
  {
   "cell_type": "code",
   "execution_count": 35,
   "metadata": {
    "collapsed": false
   },
   "outputs": [
    {
     "name": "stdout",
     "output_type": "stream",
     "text": [
      "abc(1,2,def,5)\n"
     ]
    }
   ],
   "source": [
    "print(test)"
   ]
  },
  {
   "cell_type": "code",
   "execution_count": 36,
   "metadata": {
    "collapsed": true
   },
   "outputs": [],
   "source": [
    "whitespace = Word(alphas)+\"(\"+Group( Optional(delimitedList(Word(nums)|Word(alphas)))) + \")\""
   ]
  },
  {
   "cell_type": "code",
   "execution_count": 37,
   "metadata": {
    "collapsed": false
   },
   "outputs": [
    {
     "data": {
      "text/plain": [
       "(['abc', '(', (['1', '2', 'def', '5'], {}), ')'], {})"
      ]
     },
     "execution_count": 37,
     "metadata": {},
     "output_type": "execute_result"
    }
   ],
   "source": [
    "whitespace.parseString(test)"
   ]
  },
  {
   "cell_type": "code",
   "execution_count": 38,
   "metadata": {
    "collapsed": true
   },
   "outputs": [],
   "source": [
    "test2 = 'abc(1, 2,def, 5)'"
   ]
  },
  {
   "cell_type": "code",
   "execution_count": 39,
   "metadata": {
    "collapsed": false
   },
   "outputs": [
    {
     "data": {
      "text/plain": [
       "(['abc', '(', (['1', '2', 'def', '5'], {}), ')'], {})"
      ]
     },
     "execution_count": 39,
     "metadata": {},
     "output_type": "execute_result"
    }
   ],
   "source": [
    "whitespace.parseString(test2)"
   ]
  },
  {
   "cell_type": "code",
   "execution_count": 40,
   "metadata": {
    "collapsed": true
   },
   "outputs": [],
   "source": [
    "test3 = 'abc(a,def,def,130)'\n"
   ]
  },
  {
   "cell_type": "code",
   "execution_count": 41,
   "metadata": {
    "collapsed": false
   },
   "outputs": [
    {
     "data": {
      "text/plain": [
       "(['abc', '(', (['a', 'def', 'def', '130'], {}), ')'], {})"
      ]
     },
     "execution_count": 41,
     "metadata": {},
     "output_type": "execute_result"
    }
   ],
   "source": [
    "whitespace.parseString(test3)"
   ]
  },
  {
   "cell_type": "code",
   "execution_count": 42,
   "metadata": {
    "collapsed": false
   },
   "outputs": [],
   "source": [
    "view = whitespace.parseString(test3)"
   ]
  },
  {
   "cell_type": "code",
   "execution_count": 43,
   "metadata": {
    "collapsed": false
   },
   "outputs": [
    {
     "name": "stdout",
     "output_type": "stream",
     "text": [
      "['abc', '(', ['a', 'def', 'def', '130'], ')']\n"
     ]
    }
   ],
   "source": [
    "print(view)"
   ]
  },
  {
   "cell_type": "code",
   "execution_count": 44,
   "metadata": {
    "collapsed": false
   },
   "outputs": [
    {
     "data": {
      "text/plain": [
       "pyparsing.ParseResults"
      ]
     },
     "execution_count": 44,
     "metadata": {},
     "output_type": "execute_result"
    }
   ],
   "source": [
    "type(view)"
   ]
  },
  {
   "cell_type": "markdown",
   "metadata": {},
   "source": [
    "\"You can see that the function arguments have been collected into their own sublist, making the extraction of hte function arguments easier during post-parsing analysis. If grammar definition includes results names, specific fields can be accessed by name instead of by error-prone list indexing.\n",
    "\n",
    "These higher-level access techniques are crucial to making sense of the results from a complex grammar\"\n",
    "\n"
   ]
  },
  {
   "cell_type": "markdown",
   "metadata": {
    "collapsed": true
   },
   "source": [
    "### Parsing Data from a Table --Using Parse Actions and ParseResults"
   ]
  },
  {
   "cell_type": "markdown",
   "metadata": {},
   "source": [
    "\"As our first example, let's look at a simple set of scores for college football games that might be given in a datafile\""
   ]
  },
  {
   "cell_type": "markdown",
   "metadata": {},
   "source": [
    "09/04/2004 Virginia\t\t 44  Temple\t\t          14<br>\n",
    "09/04/2004 LSU\t\t\t 22 Oregon State \t      21<br>\n",
    "09/09/2004 Troy State\t 24  Missouri             14<br>\n",
    "01/02/2003 Florida State 103  University of Miami  2<br>\t\t\n"
   ]
  },
  {
   "cell_type": "code",
   "execution_count": 45,
   "metadata": {
    "collapsed": true
   },
   "outputs": [],
   "source": [
    "tests=\"\"\"\\\n",
    "09/04/2004 Virginia   44  Temple    14\n",
    "09/04/2004 LSU         22 Oregon State  21\n",
    "09/09/2004 Troy State    24  Missouri  14\n",
    "01/02/2003 Florida State    103  University of Miami 2\n",
    "\"\"\".splitlines()\n"
   ]
  },
  {
   "cell_type": "code",
   "execution_count": 46,
   "metadata": {
    "collapsed": false
   },
   "outputs": [
    {
     "name": "stdout",
     "output_type": "stream",
     "text": [
      "['09/04/2004 Virginia   44  Temple    14', '09/04/2004 LSU         22 Oregon State  21', '09/09/2004 Troy State    24  Missouri  14', '01/02/2003 Florida State    103  University of Miami 2']\n"
     ]
    }
   ],
   "source": [
    "print(tests)"
   ]
  },
  {
   "cell_type": "markdown",
   "metadata": {},
   "source": [
    "\"Our BNF for this data is simple and clean\""
   ]
  },
  {
   "cell_type": "markdown",
   "metadata": {},
   "source": [
    "digit      ::= '0'..'9'<br>\n",
    "alpha      ::= 'A'..'Z' 'a'..'z'<br>\n",
    "date       ::= digit+ '/' digit+ '/' digit+<br>\n",
    "schoolName ::= (alpha+ )+ <br>\n",
    "score      ::= digit+ <br>\n",
    "schoolAndScore  ::=schoolName score <br>\n",
    "gameResult ::= date schoolAndScore schoolAndScore"
   ]
  },
  {
   "cell_type": "code",
   "execution_count": 47,
   "metadata": {
    "collapsed": true
   },
   "outputs": [],
   "source": [
    "#nums and alphas are already defined by paparsing\n",
    "num = Word(nums)\n",
    "date = num + \"/\" + num + \"/\" + num\n",
    "schoolName = OneOrMore( Word(alphas) )\n",
    "#\"Notice that you can compose pyparsing expression using the + operator\n",
    "#to combine pyparsing expressions and string literals. Using these \n",
    "#basic elements, we can finish the grammar by combining them into larger\n",
    "#expressions:\"\n",
    "score = Word(nums)\n",
    "schoolAndScore = schoolName + score\n",
    "gameResult = date + schoolAndScore + schoolAndScore"
   ]
  },
  {
   "cell_type": "code",
   "execution_count": 48,
   "metadata": {
    "collapsed": false
   },
   "outputs": [
    {
     "name": "stdout",
     "output_type": "stream",
     "text": [
      "['09', '/', '04', '/', '2004', 'Virginia', '44', 'Temple', '14']\n",
      "['09', '/', '04', '/', '2004', 'LSU', '22', 'Oregon', 'State', '21']\n",
      "['09', '/', '09', '/', '2004', 'Troy', 'State', '24', 'Missouri', '14']\n",
      "['01', '/', '02', '/', '2003', 'Florida', 'State', '103', 'University', 'of', 'Miami', '2']\n"
     ]
    }
   ],
   "source": [
    "for test in tests:\n",
    "    stats = gameResult.parseString(test)\n",
    "    print(stats.asList())\n"
   ]
  },
  {
   "cell_type": "markdown",
   "metadata": {},
   "source": [
    "It is important that in the delariation of the tests variable \n",
    "there is no space before each statement, \n",
    "otherwise * .parseString () will mark an error, since gameResult \n",
    "does not contain a first space in its formula."
   ]
  },
  {
   "cell_type": "markdown",
   "metadata": {
    "collapsed": true
   },
   "source": [
    "\"The first change we'll make is to combine the tokens returned by date into a single MM/DD/YYY date string. The pyparsing Combine does this for us by simply wrapping the composed expression:\""
   ]
  },
  {
   "cell_type": "code",
   "execution_count": 52,
   "metadata": {
    "collapsed": false
   },
   "outputs": [],
   "source": [
    "date = Combine( num + \"/\" + num + \"/\" + num )"
   ]
  },
  {
   "cell_type": "code",
   "execution_count": 53,
   "metadata": {
    "collapsed": true
   },
   "outputs": [],
   "source": [
    "num = Word(nums)\n",
    "date = Combine( num + \"/\" + num + \"/\" + num )\n",
    "schoolName = OneOrMore( Word(alphas) )\n",
    "score = Word(nums)\n",
    "schoolAndScore = schoolName + score\n",
    "gameResult = date + schoolAndScore + schoolAndScore"
   ]
  },
  {
   "cell_type": "code",
   "execution_count": 54,
   "metadata": {
    "collapsed": false
   },
   "outputs": [
    {
     "name": "stdout",
     "output_type": "stream",
     "text": [
      "['09/04/2004', 'Virginia', '44', 'Temple', '14']\n",
      "['09/04/2004', 'LSU', '22', 'Oregon', 'State', '21']\n",
      "['09/09/2004', 'Troy', 'State', '24', 'Missouri', '14']\n",
      "['01/02/2003', 'Florida', 'State', '103', 'University', 'of', 'Miami', '2']\n"
     ]
    }
   ],
   "source": [
    "for test in tests:\n",
    "    stats = gameResult.parseString(test)\n",
    "    print(stats.asList())"
   ]
  },
  {
   "cell_type": "markdown",
   "metadata": {},
   "source": [
    "\"Combine actually perfoms two tasks for us. In addition to concatenating the matched tokens into a single string, it also enforces that the tokensare are adjacent in the incoming text\""
   ]
  },
  {
   "cell_type": "markdown",
   "metadata": {},
   "source": [
    "\"The next change to make will be to combine the school names, too. Because Combine's default behavior requires that the tokens be adjacent, we will not use it, since some of the school names have embedded spaces. Instead we'll define a routine to be run at parse time to join and return the tokens as a single string. As mentioned previously, such routines are referred to in pyparsing as parse actions, and they can perform a variety of functions during the parsing process.\""
   ]
  },
  {
   "cell_type": "code",
   "execution_count": 55,
   "metadata": {
    "collapsed": false
   },
   "outputs": [
    {
     "data": {
      "text/plain": [
       "{W:(ABCD...)}..."
      ]
     },
     "execution_count": 55,
     "metadata": {},
     "output_type": "execute_result"
    }
   ],
   "source": [
    "schoolName.setParseAction( lambda tokens: \" \".join(tokens) )"
   ]
  },
  {
   "cell_type": "code",
   "execution_count": 56,
   "metadata": {
    "collapsed": true
   },
   "outputs": [],
   "source": [
    "num = Word(nums)\n",
    "date = Combine( num + \"/\" + num + \"/\" + num )\n",
    "schoolName.setParseAction( lambda tokens: \" \".join(tokens) )\n",
    "score = Word(nums)\n",
    "schoolAndScore = schoolName + score\n",
    "gameResult = date + schoolAndScore + schoolAndScore"
   ]
  },
  {
   "cell_type": "code",
   "execution_count": 57,
   "metadata": {
    "collapsed": false
   },
   "outputs": [
    {
     "name": "stdout",
     "output_type": "stream",
     "text": [
      "['09/04/2004', 'Virginia', '44', 'Temple', '14']\n",
      "['09/04/2004', 'LSU', '22', 'Oregon State', '21']\n",
      "['09/09/2004', 'Troy State', '24', 'Missouri', '14']\n",
      "['01/02/2003', 'Florida State', '103', 'University of Miami', '2']\n"
     ]
    }
   ],
   "source": [
    "for test in tests:\n",
    "    stats = gameResult.parseString(test)\n",
    "    print(stats.asList())"
   ]
  },
  {
   "cell_type": "code",
   "execution_count": 61,
   "metadata": {
    "collapsed": false
   },
   "outputs": [
    {
     "ename": "SyntaxError",
     "evalue": "invalid syntax (<ipython-input-61-147a2df4caa8>, line 1)",
     "output_type": "error",
     "traceback": [
      "\u001b[0;36m  File \u001b[0;32m\"<ipython-input-61-147a2df4caa8>\"\u001b[0;36m, line \u001b[0;32m1\u001b[0m\n\u001b[0;31m    print(lambda)\u001b[0m\n\u001b[0m                ^\u001b[0m\n\u001b[0;31mSyntaxError\u001b[0m\u001b[0;31m:\u001b[0m invalid syntax\n"
     ]
    }
   ],
   "source": [
    "print(lambda)"
   ]
  },
  {
   "cell_type": "code",
   "execution_count": null,
   "metadata": {
    "collapsed": true
   },
   "outputs": [],
   "source": []
  }
 ],
 "metadata": {
  "kernelspec": {
   "display_name": "Python 3",
   "language": "python",
   "name": "python3"
  },
  "language_info": {
   "codemirror_mode": {
    "name": "ipython",
    "version": 3
   },
   "file_extension": ".py",
   "mimetype": "text/x-python",
   "name": "python",
   "nbconvert_exporter": "python",
   "pygments_lexer": "ipython3",
   "version": "3.6.0"
  }
 },
 "nbformat": 4,
 "nbformat_minor": 2
}
