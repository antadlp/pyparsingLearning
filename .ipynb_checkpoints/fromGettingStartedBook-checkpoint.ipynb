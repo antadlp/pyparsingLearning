{
 "cells": [
  {
   "cell_type": "markdown",
   "metadata": {},
   "source": [
    "# Learning from:\n",
    "\n",
    "Getting Started with Pyparsing by Paul McGuire Publisher: O'Reilly Media \n",
    "http://shop.oreilly.com/product/9780596514235.do\n"
   ]
  },
  {
   "cell_type": "code",
   "execution_count": 23,
   "metadata": {
    "collapsed": true
   },
   "outputs": [],
   "source": [
    "from pyparsing import *"
   ]
  },
  {
   "cell_type": "markdown",
   "metadata": {},
   "source": [
    "### \"Hello World ! on Steroids\" \n",
    "page 9. \n",
    "\n",
    "The task is to write a parser for these strings:\n",
    "\n",
    "Hello, World! <br>\n",
    "Hi, Mom! <br>\n",
    "Good morning, Miss Crabtree!   \n",
    "Yo, Adrian!   \n",
    "Whattup, G? <br>\n",
    "How's it goin', Dude? <br>\n",
    "Hey, Jude! <br>\n",
    "Goodbye, Mr. Chips! <br>\n",
    "\n",
    "\n"
   ]
  },
  {
   "cell_type": "markdown",
   "metadata": {},
   "source": [
    "Giving the input values with a list of strings:"
   ]
  },
  {
   "cell_type": "code",
   "execution_count": 24,
   "metadata": {
    "collapsed": true
   },
   "outputs": [],
   "source": [
    "tests=['Hello, World!', 'Hi, Mom!', \n",
    "      'Good morning, Miss Crabtree!',\n",
    "      'Yo, Adrian!',\n",
    "      'Whattup, G?',\n",
    "      'Hey, Jude!',\n",
    "      'Goodbye, Mr. Chips!',\n",
    "      'How\\'s it going\\', Dude?']"
   ]
  },
  {
   "cell_type": "markdown",
   "metadata": {},
   "source": [
    "Printing the input values to check:"
   ]
  },
  {
   "cell_type": "code",
   "execution_count": 25,
   "metadata": {
    "collapsed": false
   },
   "outputs": [
    {
     "name": "stdout",
     "output_type": "stream",
     "text": [
      "['Hello, World!', 'Hi, Mom!', 'Good morning, Miss Crabtree!', 'Yo, Adrian!', 'Whattup, G?', 'Hey, Jude!', 'Goodbye, Mr. Chips!', \"How's it going', Dude?\"]\n"
     ]
    }
   ],
   "source": [
    "print(tests)"
   ]
  },
  {
   "cell_type": "markdown",
   "metadata": {},
   "source": [
    "\"The first step is to identify the pattern that they all follow\" <br>\n",
    "\n",
    "writing this pattern as a BNF:\n",
    "\n",
    "greeting ::= salutation comma greetee endpunc\n",
    "salutation ::= word+ <br>\n",
    "comma ::= , <br>\n",
    "greetee ::= word+ <br>\n",
    "word ::= a collection of one or more characters, which are any alpha or 'or <br>\n",
    "endpunc ::= ! | ? <br>\n",
    "\n",
    "\n"
   ]
  },
  {
   "cell_type": "code",
   "execution_count": 26,
   "metadata": {
    "collapsed": false
   },
   "outputs": [],
   "source": [
    "word = Word(alphas+\"'.\")\n",
    "salutation = OneOrMore(word)\n",
    "comma = Literal(\",\")\n",
    "greetee = OneOrMore(word)\n",
    "endpunc = oneOf(\"! ?\")\n",
    "greeting = salutation + comma + greetee + endpunc\n",
    "\n"
   ]
  },
  {
   "cell_type": "markdown",
   "metadata": {},
   "source": [
    "the greeting variable has the 'formula' for the appropriate parse and is like an object that can do the parse and other operations. Doing the parse for the element 3 in the list (arrays in python begin with the 0 element)."
   ]
  },
  {
   "cell_type": "code",
   "execution_count": 27,
   "metadata": {
    "collapsed": false
   },
   "outputs": [
    {
     "data": {
      "text/plain": [
       "(['Good', 'morning', ',', 'Miss', 'Crabtree', '!'], {})"
      ]
     },
     "execution_count": 27,
     "metadata": {},
     "output_type": "execute_result"
    }
   ],
   "source": [
    "greeting.parseString(tests[2])"
   ]
  },
  {
   "cell_type": "markdown",
   "metadata": {},
   "source": [
    "Doing the parse for all the items in the list"
   ]
  },
  {
   "cell_type": "code",
   "execution_count": 28,
   "metadata": {
    "collapsed": false
   },
   "outputs": [
    {
     "name": "stdout",
     "output_type": "stream",
     "text": [
      "['Hello', ',', 'World', '!']\n",
      "['Hi', ',', 'Mom', '!']\n",
      "['Good', 'morning', ',', 'Miss', 'Crabtree', '!']\n",
      "['Yo', ',', 'Adrian', '!']\n",
      "['Whattup', ',', 'G', '?']\n",
      "['Hey', ',', 'Jude', '!']\n",
      "['Goodbye', ',', 'Mr.', 'Chips', '!']\n",
      "[\"How's\", 'it', \"going'\", ',', 'Dude', '?']\n"
     ]
    }
   ],
   "source": [
    "for t in tests:\n",
    "    view = greeting.parseString(t)\n",
    "    print(view)"
   ]
  },
  {
   "cell_type": "markdown",
   "metadata": {},
   "source": [
    "\"to identify the tokens that compose the initial part of the greeting--the salutation--we need to iterate over the results until we reach the comma token:\""
   ]
  },
  {
   "cell_type": "code",
   "execution_count": 29,
   "metadata": {
    "collapsed": false
   },
   "outputs": [
    {
     "name": "stdout",
     "output_type": "stream",
     "text": [
      "['Hello']\n",
      "['Hi']\n",
      "['Good', 'morning']\n",
      "['Yo']\n",
      "['Whattup']\n",
      "['Hey']\n",
      "['Goodbye']\n",
      "[\"How's\", 'it', \"going'\"]\n"
     ]
    }
   ],
   "source": [
    "for t in tests:\n",
    "    results = greeting.parseString(t)\n",
    "    salutation = []\n",
    "    for token in results:\n",
    "        if token == \",\": break\n",
    "        salutation.append(token)\n",
    "    print(salutation) \n",
    "        \n",
    "    "
   ]
  },
  {
   "cell_type": "markdown",
   "metadata": {
    "collapsed": true
   },
   "source": [
    "\"Since we know that the salutation and greetee parts of the greeting are logical groups, we can use pyparsing's Group class to give more structure to the returned results. By changing the definitions of salutation and greetee to:\"   (not so clear)"
   ]
  },
  {
   "cell_type": "code",
   "execution_count": 30,
   "metadata": {
    "collapsed": true
   },
   "outputs": [],
   "source": [
    "salutation = Group( OneOrMore(word))"
   ]
  },
  {
   "cell_type": "code",
   "execution_count": 31,
   "metadata": {
    "collapsed": false
   },
   "outputs": [
    {
     "name": "stdout",
     "output_type": "stream",
     "text": [
      "Group:({W:(ABCD...)}...)\n"
     ]
    }
   ],
   "source": [
    "print(salutation)"
   ]
  },
  {
   "cell_type": "code",
   "execution_count": 32,
   "metadata": {
    "collapsed": true
   },
   "outputs": [],
   "source": [
    "greetee = Group( OneOrMore(word) )"
   ]
  },
  {
   "cell_type": "code",
   "execution_count": 33,
   "metadata": {
    "collapsed": false
   },
   "outputs": [
    {
     "name": "stdout",
     "output_type": "stream",
     "text": [
      "Group:({W:(ABCD...)}...)\n"
     ]
    }
   ],
   "source": [
    "print(greetee)"
   ]
  },
  {
   "cell_type": "markdown",
   "metadata": {},
   "source": [
    "The results are not viewed as in the example"
   ]
  },
  {
   "cell_type": "code",
   "execution_count": 34,
   "metadata": {
    "collapsed": false
   },
   "outputs": [
    {
     "name": "stdout",
     "output_type": "stream",
     "text": [
      "['Hello', ',', 'World', '!']\n",
      "['Hi', ',', 'Mom', '!']\n",
      "['Good', 'morning', ',', 'Miss', 'Crabtree', '!']\n",
      "['Yo', ',', 'Adrian', '!']\n",
      "['Whattup', ',', 'G', '?']\n",
      "['Hey', ',', 'Jude', '!']\n",
      "['Goodbye', ',', 'Mr.', 'Chips', '!']\n",
      "[\"How's\", 'it', \"going'\", ',', 'Dude', '?']\n"
     ]
    }
   ],
   "source": [
    "for t in tests:\n",
    "    view = greeting.parseString(t)\n",
    "    print(view)"
   ]
  },
  {
   "cell_type": "markdown",
   "metadata": {},
   "source": [
    "Maybe declaring again the structure of the parse, but now with the Group class "
   ]
  },
  {
   "cell_type": "code",
   "execution_count": 35,
   "metadata": {
    "collapsed": true
   },
   "outputs": [],
   "source": [
    "word = Word(alphas+\"'.\")\n",
    "salutation = Group(OneOrMore(word))\n",
    "comma = Literal(\",\")\n",
    "greetee = Group(OneOrMore(word))\n",
    "endpunc = oneOf(\"! ?\")\n",
    "greeting = salutation + comma + greetee + endpunc"
   ]
  },
  {
   "cell_type": "code",
   "execution_count": 36,
   "metadata": {
    "collapsed": false
   },
   "outputs": [
    {
     "name": "stdout",
     "output_type": "stream",
     "text": [
      "[['Hello'], ',', ['World'], '!']\n",
      "[['Hi'], ',', ['Mom'], '!']\n",
      "[['Good', 'morning'], ',', ['Miss', 'Crabtree'], '!']\n",
      "[['Yo'], ',', ['Adrian'], '!']\n",
      "[['Whattup'], ',', ['G'], '?']\n",
      "[['Hey'], ',', ['Jude'], '!']\n",
      "[['Goodbye'], ',', ['Mr.', 'Chips'], '!']\n",
      "[[\"How's\", 'it', \"going'\"], ',', ['Dude'], '?']\n"
     ]
    }
   ],
   "source": [
    "for t in tests:\n",
    "    view = greeting.parseString(t)\n",
    "    print(view)"
   ]
  },
  {
   "cell_type": "markdown",
   "metadata": {},
   "source": [
    "Alright, it was necessary to be declared all over again"
   ]
  },
  {
   "cell_type": "markdown",
   "metadata": {},
   "source": [
    "Using list-to-variable assignment to access the different parts:"
   ]
  },
  {
   "cell_type": "code",
   "execution_count": 39,
   "metadata": {
    "collapsed": false
   },
   "outputs": [
    {
     "name": "stdout",
     "output_type": "stream",
     "text": [
      "['Hello'] ['World'] !\n",
      "['Hi'] ['Mom'] !\n",
      "['Good', 'morning'] ['Miss', 'Crabtree'] !\n",
      "['Yo'] ['Adrian'] !\n",
      "['Whattup'] ['G'] ?\n",
      "['Hey'] ['Jude'] !\n",
      "['Goodbye'] ['Mr.', 'Chips'] !\n",
      "[\"How's\", 'it', \"going'\"] ['Dude'] ?\n"
     ]
    }
   ],
   "source": [
    "for t in tests:\n",
    "    salutation, dummy, greetee, endpunc = greeting.parseString(t)\n",
    "    print(salutation, greetee, endpunc)"
   ]
  },
  {
   "cell_type": "code",
   "execution_count": null,
   "metadata": {
    "collapsed": true
   },
   "outputs": [],
   "source": []
  }
 ],
 "metadata": {
  "kernelspec": {
   "display_name": "Python 3",
   "language": "python",
   "name": "python3"
  },
  "language_info": {
   "codemirror_mode": {
    "name": "ipython",
    "version": 3
   },
   "file_extension": ".py",
   "mimetype": "text/x-python",
   "name": "python",
   "nbconvert_exporter": "python",
   "pygments_lexer": "ipython3",
   "version": "3.6.0"
  }
 },
 "nbformat": 4,
 "nbformat_minor": 2
}
