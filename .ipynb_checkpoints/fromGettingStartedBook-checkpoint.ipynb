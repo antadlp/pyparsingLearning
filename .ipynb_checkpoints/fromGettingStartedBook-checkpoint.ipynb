{
 "cells": [
  {
   "cell_type": "markdown",
   "metadata": {},
   "source": [
    "# Learning from:\n",
    "\n",
    "Getting Started with Pyparsing by Paul McGuire Publisher: O'Reilly Media \n",
    "http://shop.oreilly.com/product/9780596514235.do\n"
   ]
  },
  {
   "cell_type": "code",
   "execution_count": 2,
   "metadata": {
    "collapsed": true
   },
   "outputs": [],
   "source": [
    "from pyparsing import *"
   ]
  },
  {
   "cell_type": "markdown",
   "metadata": {},
   "source": [
    "### \"Hello World ! on Steroids\" \n",
    "page 9. \n",
    "\n",
    "The task is to write a parser for these strings:\n",
    "\n",
    "Hello, World! <br>\n",
    "Hi, Mom! <br>\n",
    "Good morning, Miss Crabtree!   \n",
    "Yo, Adrian!   \n",
    "Whattup, G? <br>\n",
    "How's it goin', Dude? <br>\n",
    "Hey, Jude! <br>\n",
    "Goodbye, Mr. Chips! <br>\n",
    "\n",
    "\"The first step is to identify the pattern that they all follow\"\n"
   ]
  },
  {
   "cell_type": "markdown",
   "metadata": {},
   "source": [
    "writing this pattern as a BNF:\n",
    "\n",
    "greeting ::= salutation comma greetee endpunc\n",
    "salutation ::= word+ <br>\n",
    "comma ::= , <br>\n",
    "greetee ::= word+ <br>\n",
    "word ::= a collection of one or more characters, which are any alpha or 'or <br>\n",
    "endpunc ::= ! | ? <br>\n",
    "\n",
    "\n"
   ]
  },
  {
   "cell_type": "code",
   "execution_count": 5,
   "metadata": {
    "collapsed": false
   },
   "outputs": [],
   "source": [
    "word = Word(alphas+\".\")\n",
    "salutation = OneOrMore(word)\n",
    "comma = Literal(\",\")\n",
    "greetee = OneOrMore(word)\n",
    "endpunc = oneOf(\"! ?\")\n",
    "greeting = salutation + comma + greetee + endpunc\n",
    "\n"
   ]
  },
  {
   "cell_type": "markdown",
   "metadata": {},
   "source": [
    "\"to identify the tokens that compose the initial part of the greeting--the salutation--we need to iterate over the results until we reach the comma token:\""
   ]
  },
  {
   "cell_type": "code",
   "execution_count": 8,
   "metadata": {
    "collapsed": false
   },
   "outputs": [
    {
     "ename": "NameError",
     "evalue": "name 'tests' is not defined",
     "output_type": "error",
     "traceback": [
      "\u001b[0;31m---------------------------------------------------------------------------\u001b[0m",
      "\u001b[0;31mNameError\u001b[0m                                 Traceback (most recent call last)",
      "\u001b[0;32m<ipython-input-8-bc3f3e4efc78>\u001b[0m in \u001b[0;36m<module>\u001b[0;34m()\u001b[0m\n\u001b[0;32m----> 1\u001b[0;31m \u001b[0;32mfor\u001b[0m \u001b[0mt\u001b[0m \u001b[0;32min\u001b[0m \u001b[0mtests\u001b[0m\u001b[0;34m:\u001b[0m\u001b[0;34m\u001b[0m\u001b[0m\n\u001b[0m\u001b[1;32m      2\u001b[0m     \u001b[0mresults\u001b[0m \u001b[0;34m=\u001b[0m \u001b[0mgreeting\u001b[0m\u001b[0;34m.\u001b[0m\u001b[0mparseString\u001b[0m\u001b[0;34m(\u001b[0m\u001b[0mt\u001b[0m\u001b[0;34m)\u001b[0m\u001b[0;34m\u001b[0m\u001b[0m\n\u001b[1;32m      3\u001b[0m     \u001b[0msalutation\u001b[0m \u001b[0;34m=\u001b[0m \u001b[0;34m[\u001b[0m\u001b[0;34m]\u001b[0m\u001b[0;34m\u001b[0m\u001b[0m\n\u001b[1;32m      4\u001b[0m     \u001b[0;32mfor\u001b[0m \u001b[0mtoken\u001b[0m \u001b[0;32min\u001b[0m \u001b[0mresults\u001b[0m\u001b[0;34m:\u001b[0m\u001b[0;34m\u001b[0m\u001b[0m\n\u001b[1;32m      5\u001b[0m         \u001b[0;32mif\u001b[0m \u001b[0mtoken\u001b[0m \u001b[0;34m==\u001b[0m \u001b[0;34m\",\"\u001b[0m\u001b[0;34m:\u001b[0m \u001b[0;32mbreak\u001b[0m\u001b[0;34m\u001b[0m\u001b[0m\n",
      "\u001b[0;31mNameError\u001b[0m: name 'tests' is not defined"
     ]
    }
   ],
   "source": [
    "for t in tests:\n",
    "    results = greeting.parseString(t)\n",
    "    salutation = []\n",
    "    for token in results:\n",
    "        if token == \",\": break\n",
    "        salutation.append(token)\n",
    "    print(salutation) \n",
    "        \n",
    "    "
   ]
  },
  {
   "cell_type": "code",
   "execution_count": null,
   "metadata": {
    "collapsed": true
   },
   "outputs": [],
   "source": []
  }
 ],
 "metadata": {
  "kernelspec": {
   "display_name": "Python 3",
   "language": "python",
   "name": "python3"
  },
  "language_info": {
   "codemirror_mode": {
    "name": "ipython",
    "version": 3
   },
   "file_extension": ".py",
   "mimetype": "text/x-python",
   "name": "python",
   "nbconvert_exporter": "python",
   "pygments_lexer": "ipython3",
   "version": "3.6.0"
  }
 },
 "nbformat": 4,
 "nbformat_minor": 2
}
