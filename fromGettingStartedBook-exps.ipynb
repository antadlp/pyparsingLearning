{
 "cells": [
  {
   "cell_type": "markdown",
   "metadata": {},
   "source": [
    "# Learning from:\n",
    "\n",
    "Getting Started with Pyparsing by Paul McGuire Publisher: O'Reilly Media \n",
    "http://shop.oreilly.com/product/9780596514235.do\n"
   ]
  },
  {
   "cell_type": "code",
   "execution_count": 212,
   "metadata": {
    "collapsed": true
   },
   "outputs": [],
   "source": [
    "from pyparsing import *"
   ]
  },
  {
   "cell_type": "code",
   "execution_count": 213,
   "metadata": {
    "collapsed": true
   },
   "outputs": [],
   "source": [
    "import random"
   ]
  },
  {
   "cell_type": "markdown",
   "metadata": {},
   "source": [
    "### \"Hello World ! on Steroids\" \n",
    "page 9. \n",
    "\n",
    "The task is to write a parser for these strings:\n",
    "\n",
    "Hello, World! <br>\n",
    "Hi, Mom! <br>\n",
    "Good morning, Miss Crabtree!   \n",
    "Yo, Adrian!   \n",
    "Whattup, G? <br>\n",
    "How's it goin', Dude? <br>\n",
    "Hey, Jude! <br>\n",
    "Goodbye, Mr. Chips! <br>\n",
    "\n",
    "\n"
   ]
  },
  {
   "cell_type": "markdown",
   "metadata": {},
   "source": [
    "Giving the input values with a list of strings:"
   ]
  },
  {
   "cell_type": "code",
   "execution_count": 214,
   "metadata": {
    "collapsed": true
   },
   "outputs": [],
   "source": [
    "tests=['   Hello, World!', 'Hi, Mom!', \n",
    "      'Good morning, Miss Crabtree!',\n",
    "      'Yo, Adrian!',\n",
    "      'Whattup, G?',\n",
    "      'Hey, Jude!',\n",
    "      'Goodbye, Mr. Chips!',\n",
    "      'How\\'s it going\\', Dude?']"
   ]
  },
  {
   "cell_type": "markdown",
   "metadata": {},
   "source": [
    "Printing the input values to check:"
   ]
  },
  {
   "cell_type": "code",
   "execution_count": 215,
   "metadata": {},
   "outputs": [
    {
     "name": "stdout",
     "output_type": "stream",
     "text": [
      "['   Hello, World!', 'Hi, Mom!', 'Good morning, Miss Crabtree!', 'Yo, Adrian!', 'Whattup, G?', 'Hey, Jude!', 'Goodbye, Mr. Chips!', \"How's it going', Dude?\"]\n"
     ]
    }
   ],
   "source": [
    "print(tests)"
   ]
  },
  {
   "cell_type": "markdown",
   "metadata": {},
   "source": [
    "\"The first step is to identify the pattern that they all follow\" <br>\n",
    "\n",
    "writing this pattern as a BNF:\n",
    "\n",
    "greeting ::= salutation comma greetee endpunc\n",
    "salutation ::= word+ <br>\n",
    "comma ::= , <br>\n",
    "greetee ::= word+ <br>\n",
    "word ::= a collection of one or more characters, which are any alpha or 'or <br>\n",
    "endpunc ::= ! | ? <br>\n",
    "\n",
    "\n"
   ]
  },
  {
   "cell_type": "code",
   "execution_count": 216,
   "metadata": {
    "collapsed": true
   },
   "outputs": [],
   "source": [
    "word = Word(alphas+\"'.\")\n",
    "salutation = OneOrMore(word)\n",
    "comma = Literal(\",\")\n",
    "greetee = OneOrMore(word)\n",
    "endpunc = oneOf(\"! ?\")\n",
    "greeting = salutation + comma + greetee + endpunc\n",
    "\n"
   ]
  },
  {
   "cell_type": "markdown",
   "metadata": {},
   "source": [
    "the greeting variable has the 'formula' for the appropriate parse and is like an object that can do the parse and other operations. Doing the parse for the element 3 in the list (arrays in python begin with the 0 element)."
   ]
  },
  {
   "cell_type": "code",
   "execution_count": 217,
   "metadata": {},
   "outputs": [
    {
     "data": {
      "text/plain": [
       "(['Good', 'morning', ',', 'Miss', 'Crabtree', '!'], {})"
      ]
     },
     "execution_count": 217,
     "metadata": {},
     "output_type": "execute_result"
    }
   ],
   "source": [
    "greeting.parseString(tests[2])"
   ]
  },
  {
   "cell_type": "markdown",
   "metadata": {},
   "source": [
    "Doing the parse for all the items in the list"
   ]
  },
  {
   "cell_type": "code",
   "execution_count": 218,
   "metadata": {},
   "outputs": [
    {
     "name": "stdout",
     "output_type": "stream",
     "text": [
      "['Hello', ',', 'World', '!']\n",
      "['Hi', ',', 'Mom', '!']\n",
      "['Good', 'morning', ',', 'Miss', 'Crabtree', '!']\n",
      "['Yo', ',', 'Adrian', '!']\n",
      "['Whattup', ',', 'G', '?']\n",
      "['Hey', ',', 'Jude', '!']\n",
      "['Goodbye', ',', 'Mr.', 'Chips', '!']\n",
      "[\"How's\", 'it', \"going'\", ',', 'Dude', '?']\n"
     ]
    }
   ],
   "source": [
    "for t in tests:\n",
    "    view = greeting.parseString(t)\n",
    "    print(view)"
   ]
  },
  {
   "cell_type": "markdown",
   "metadata": {},
   "source": [
    "\"to identify the tokens that compose the initial part of the greeting--the salutation--we need to iterate over the results until we reach the comma token:\""
   ]
  },
  {
   "cell_type": "code",
   "execution_count": 219,
   "metadata": {},
   "outputs": [
    {
     "name": "stdout",
     "output_type": "stream",
     "text": [
      "['Hello']\n",
      "['Hi']\n",
      "['Good', 'morning']\n",
      "['Yo']\n",
      "['Whattup']\n",
      "['Hey']\n",
      "['Goodbye']\n",
      "[\"How's\", 'it', \"going'\"]\n"
     ]
    }
   ],
   "source": [
    "for t in tests:\n",
    "    results = greeting.parseString(t)\n",
    "    salutation = []\n",
    "    for token in results:\n",
    "        if token == \",\": break\n",
    "        salutation.append(token)\n",
    "    print(salutation) \n",
    "        \n",
    "    "
   ]
  },
  {
   "cell_type": "markdown",
   "metadata": {
    "collapsed": true
   },
   "source": [
    "\"Since we know that the salutation and greetee parts of the greeting are logical groups, we can use pyparsing's Group class to give more structure to the returned results. By changing the definitions of salutation and greetee to:\"   (not so clear)"
   ]
  },
  {
   "cell_type": "code",
   "execution_count": 220,
   "metadata": {
    "collapsed": true
   },
   "outputs": [],
   "source": [
    "salutation = Group( OneOrMore(word))"
   ]
  },
  {
   "cell_type": "code",
   "execution_count": 221,
   "metadata": {},
   "outputs": [
    {
     "name": "stdout",
     "output_type": "stream",
     "text": [
      "Group:({W:(ABCD...)}...)\n"
     ]
    }
   ],
   "source": [
    "print(salutation)"
   ]
  },
  {
   "cell_type": "code",
   "execution_count": 222,
   "metadata": {
    "collapsed": true
   },
   "outputs": [],
   "source": [
    "greetee = Group( OneOrMore(word) )"
   ]
  },
  {
   "cell_type": "code",
   "execution_count": 223,
   "metadata": {},
   "outputs": [
    {
     "name": "stdout",
     "output_type": "stream",
     "text": [
      "Group:({W:(ABCD...)}...)\n"
     ]
    }
   ],
   "source": [
    "print(greetee)"
   ]
  },
  {
   "cell_type": "markdown",
   "metadata": {},
   "source": [
    "The results are not viewed as in the example"
   ]
  },
  {
   "cell_type": "code",
   "execution_count": 224,
   "metadata": {},
   "outputs": [
    {
     "name": "stdout",
     "output_type": "stream",
     "text": [
      "['Hello', ',', 'World', '!']\n",
      "['Hi', ',', 'Mom', '!']\n",
      "['Good', 'morning', ',', 'Miss', 'Crabtree', '!']\n",
      "['Yo', ',', 'Adrian', '!']\n",
      "['Whattup', ',', 'G', '?']\n",
      "['Hey', ',', 'Jude', '!']\n",
      "['Goodbye', ',', 'Mr.', 'Chips', '!']\n",
      "[\"How's\", 'it', \"going'\", ',', 'Dude', '?']\n"
     ]
    }
   ],
   "source": [
    "for t in tests:\n",
    "    view = greeting.parseString(t)\n",
    "    print(view)"
   ]
  },
  {
   "cell_type": "markdown",
   "metadata": {},
   "source": [
    "Maybe declaring again the structure of the parse, but now with the Group class "
   ]
  },
  {
   "cell_type": "code",
   "execution_count": 225,
   "metadata": {
    "collapsed": true
   },
   "outputs": [],
   "source": [
    "word = Word(alphas+\"'.\")\n",
    "salutation = Group(OneOrMore(word))\n",
    "comma = Literal(\",\")\n",
    "greetee = Group(OneOrMore(word))\n",
    "endpunc = oneOf(\"! ?\")\n",
    "greeting = salutation + comma + greetee + endpunc"
   ]
  },
  {
   "cell_type": "code",
   "execution_count": 226,
   "metadata": {},
   "outputs": [
    {
     "name": "stdout",
     "output_type": "stream",
     "text": [
      "[['Hello'], ',', ['World'], '!']\n",
      "[['Hi'], ',', ['Mom'], '!']\n",
      "[['Good', 'morning'], ',', ['Miss', 'Crabtree'], '!']\n",
      "[['Yo'], ',', ['Adrian'], '!']\n",
      "[['Whattup'], ',', ['G'], '?']\n",
      "[['Hey'], ',', ['Jude'], '!']\n",
      "[['Goodbye'], ',', ['Mr.', 'Chips'], '!']\n",
      "[[\"How's\", 'it', \"going'\"], ',', ['Dude'], '?']\n"
     ]
    }
   ],
   "source": [
    "for t in tests:\n",
    "    view = greeting.parseString(t)\n",
    "    print(view)"
   ]
  },
  {
   "cell_type": "markdown",
   "metadata": {},
   "source": [
    "Alright, it was necessary to be declared all over again. Just declaring the greeting formula again it's not enough, see [errorJustGreeting](#errorJustGreeting) <!-- How to reference another cell http://stackoverflow.com/a/28080529/7896359 @Amit -->"
   ]
  },
  {
   "cell_type": "markdown",
   "metadata": {},
   "source": [
    "Using list-to-variable assignment to access the different parts:"
   ]
  },
  {
   "cell_type": "code",
   "execution_count": 227,
   "metadata": {},
   "outputs": [
    {
     "name": "stdout",
     "output_type": "stream",
     "text": [
      "['Hello'] ['World'] !\n",
      "['Hi'] ['Mom'] !\n",
      "['Good', 'morning'] ['Miss', 'Crabtree'] !\n",
      "['Yo'] ['Adrian'] !\n",
      "['Whattup'] ['G'] ?\n",
      "['Hey'] ['Jude'] !\n",
      "['Goodbye'] ['Mr.', 'Chips'] !\n",
      "[\"How's\", 'it', \"going'\"] ['Dude'] ?\n"
     ]
    }
   ],
   "source": [
    "for t in tests:\n",
    "    salutation, dummy, greetee, endpunc = greeting.parseString(t)\n",
    "    print(salutation, greetee, endpunc)"
   ]
  },
  {
   "cell_type": "markdown",
   "metadata": {},
   "source": [
    "\"The comma is a very important element during parsing, since it shows where the parser stops reading the salutation and starts the greetee. But in the returned results, the comma is not really very interesting at all, and it would be nice to supress it from the returned results. You can do this by wrapping the definition of comma in a pyparsing Supress instance:\""
   ]
  },
  {
   "cell_type": "code",
   "execution_count": 228,
   "metadata": {
    "collapsed": true
   },
   "outputs": [],
   "source": [
    "#comma = Suppress( Literal(\",\")) # or\n",
    "comma = Literal(\",\").suppress() #or\n",
    "#comma = Suppress(\",\") # the three are equivalent"
   ]
  },
  {
   "cell_type": "markdown",
   "metadata": {},
   "source": [
    "<a id='errorJustGreeting'></a>\n",
    "Seeing again the results, now with the suppress command, and declaring again greeting formula"
   ]
  },
  {
   "cell_type": "code",
   "execution_count": 229,
   "metadata": {
    "collapsed": true
   },
   "outputs": [],
   "source": [
    "#greeting = salutation + comma + greetee + endpunc"
   ]
  },
  {
   "cell_type": "markdown",
   "metadata": {},
   "source": [
    "It seems that it is important to declare all over again"
   ]
  },
  {
   "cell_type": "code",
   "execution_count": 230,
   "metadata": {
    "collapsed": true
   },
   "outputs": [],
   "source": [
    "word = Word(alphas+\"'.\")\n",
    "salutation = Group(OneOrMore(word))\n",
    "comma = Literal(\",\").suppress()\n",
    "greetee = Group(OneOrMore(word))\n",
    "endpunc = oneOf(\"! ?\")\n",
    "greeting = salutation + comma + greetee + endpunc"
   ]
  },
  {
   "cell_type": "code",
   "execution_count": 231,
   "metadata": {},
   "outputs": [
    {
     "name": "stdout",
     "output_type": "stream",
     "text": [
      "[['Hello'], ['World'], '!']\n",
      "[['Hi'], ['Mom'], '!']\n",
      "[['Good', 'morning'], ['Miss', 'Crabtree'], '!']\n",
      "[['Yo'], ['Adrian'], '!']\n",
      "[['Whattup'], ['G'], '?']\n",
      "[['Hey'], ['Jude'], '!']\n",
      "[['Goodbye'], ['Mr.', 'Chips'], '!']\n",
      "[[\"How's\", 'it', \"going'\"], ['Dude'], '?']\n"
     ]
    }
   ],
   "source": [
    "for t in tests:\n",
    "    view = greeting.parseString(t)\n",
    "    print(view)"
   ]
  },
  {
   "cell_type": "markdown",
   "metadata": {},
   "source": [
    "\"Now that we have a decent parser and a good way to get out the results, we can start to have fun with the test data. First, let's accumulate the salutations and greetees into lists of their own:\""
   ]
  },
  {
   "cell_type": "code",
   "execution_count": 232,
   "metadata": {
    "collapsed": true
   },
   "outputs": [],
   "source": [
    "salutes=[]"
   ]
  },
  {
   "cell_type": "code",
   "execution_count": 233,
   "metadata": {
    "collapsed": true
   },
   "outputs": [],
   "source": [
    "greetees = []"
   ]
  },
  {
   "cell_type": "code",
   "execution_count": 234,
   "metadata": {
    "collapsed": true
   },
   "outputs": [],
   "source": [
    "for t in tests:\n",
    "    salutation, greetee, endpunc = greeting.parseString(t)\n",
    "    salutes.append( (\" \".join(salutation), endpunc) )\n",
    "    greetees.append( \" \".join(greetee) )"
   ]
  },
  {
   "cell_type": "markdown",
   "metadata": {},
   "source": [
    "Seeing what is in salutes"
   ]
  },
  {
   "cell_type": "code",
   "execution_count": 235,
   "metadata": {},
   "outputs": [
    {
     "name": "stdout",
     "output_type": "stream",
     "text": [
      "[('Hello', '!'), ('Hi', '!'), ('Good morning', '!'), ('Yo', '!'), ('Whattup', '?'), ('Hey', '!'), ('Goodbye', '!'), (\"How's it going'\", '?')]\n"
     ]
    }
   ],
   "source": [
    "print(salutes)"
   ]
  },
  {
   "cell_type": "code",
   "execution_count": 236,
   "metadata": {},
   "outputs": [
    {
     "name": "stdout",
     "output_type": "stream",
     "text": [
      "('Good morning', '!')\n"
     ]
    }
   ],
   "source": [
    "print(salutes[2])"
   ]
  },
  {
   "cell_type": "markdown",
   "metadata": {},
   "source": [
    "what is in greetees"
   ]
  },
  {
   "cell_type": "code",
   "execution_count": 237,
   "metadata": {},
   "outputs": [
    {
     "name": "stdout",
     "output_type": "stream",
     "text": [
      "['World', 'Mom', 'Miss Crabtree', 'Adrian', 'G', 'Jude', 'Mr. Chips', 'Dude']\n"
     ]
    }
   ],
   "source": [
    "print(greetees)"
   ]
  },
  {
   "cell_type": "markdown",
   "metadata": {},
   "source": [
    "\"Now that we have collected these assorted names and salutations, we can use them to contrive some additional, never-before-seen greetings and introductions.\""
   ]
  },
  {
   "cell_type": "code",
   "execution_count": 238,
   "metadata": {},
   "outputs": [
    {
     "name": "stdout",
     "output_type": "stream",
     "text": [
      "Hi, Miss Crabtree!\n",
      "Goodbye, Dude!\n",
      "How's it going', G?\n",
      "Goodbye, Dude!\n",
      "Yo, World!\n",
      "Hi, Miss Crabtree!\n",
      "Hey, Miss Crabtree!\n",
      "Yo, Jude!\n",
      "Good morning, Mr. Chips!\n",
      "Yo, Mr. Chips!\n",
      "Hi, World!\n",
      "How's it going', Dude?\n",
      "Good morning, World!\n",
      "Goodbye, World!\n",
      "Hello, Miss Crabtree!\n",
      "Hello, Mr. Chips!\n",
      "Goodbye, Jude!\n",
      "Goodbye, Jude!\n",
      "Good morning, Jude!\n",
      "Yo, Adrian!\n",
      "Hello, G!\n",
      "How's it going', Adrian?\n",
      "Whattup, World?\n",
      "Goodbye, G!\n",
      "Hi, Mom!\n",
      "Yo, Dude!\n",
      "Whattup, Dude?\n",
      "Goodbye, Miss Crabtree!\n",
      "Hi, Mom!\n",
      "How's it going', G?\n",
      "Yo, Miss Crabtree!\n",
      "Good morning, Jude!\n",
      "Hi, G!\n",
      "Whattup, Dude?\n",
      "How's it going', G?\n",
      "Hey, Mr. Chips!\n",
      "How's it going', Mr. Chips?\n",
      "Hey, Mr. Chips!\n",
      "Goodbye, World!\n",
      "Hey, Mom!\n",
      "Hi, Mom!\n",
      "Goodbye, Adrian!\n",
      "Hey, Adrian!\n",
      "Hi, World!\n",
      "Hey, Mom!\n",
      "Hello, Jude!\n",
      "Good morning, Adrian!\n",
      "Yo, World!\n",
      "Hey, Dude!\n",
      "Whattup, Adrian?\n"
     ]
    }
   ],
   "source": [
    "for i in range(50):\n",
    "    salute = random.choice( salutes )\n",
    "    greetee = random.choice( greetees )\n",
    "    print(\"%s, %s%s\" % ( salute[0], greetee, salute[1] ))"
   ]
  },
  {
   "cell_type": "markdown",
   "metadata": {
    "collapsed": true
   },
   "source": [
    "\"We can also simulate some introductions with the following code:\""
   ]
  },
  {
   "cell_type": "code",
   "execution_count": 239,
   "metadata": {},
   "outputs": [
    {
     "name": "stdout",
     "output_type": "stream",
     "text": [
      "Jude, say \"Hello!\" to Miss Crabtree.\n",
      "World, say \"Whattup?\" to Mom.\n",
      "G, say \"Hello!\" to Dude.\n",
      "Miss Crabtree, say \"Hello!\" to Mom.\n",
      "Mr. Chips, say \"Whattup?\" to Dude.\n",
      "Jude, say \"Whattup?\" to Dude.\n",
      "Miss Crabtree, say \"Whattup?\" to Mom.\n",
      "World, say \"Goodbye!\" to G.\n",
      "Jude, say \"Goodbye!\" to Dude.\n",
      "Dude, say \"Hey!\" to Miss Crabtree.\n",
      "Jude, say \"Whattup?\" to Miss Crabtree.\n",
      "Jude, say \"Yo!\" to Mom.\n",
      "Miss Crabtree, say \"How's it going'?\" to Adrian.\n",
      "World, say \"Hello!\" to G.\n",
      "Mr. Chips, say \"Hey!\" to G.\n",
      "World, say \"Hey!\" to Mr. Chips.\n",
      "Dude, say \"Goodbye!\" to World.\n",
      "Mom, say \"Hello!\" to Miss Crabtree.\n",
      "Adrian, say \"Goodbye!\" to World.\n",
      "Mom, say \"Whattup?\" to Miss Crabtree.\n",
      "Mr. Chips, say \"Goodbye!\" to Dude.\n",
      "Mom, say \"Hey!\" to Mom.\n",
      "Adrian, say \"How's it going'?\" to World.\n",
      "Mom, say \"How's it going'?\" to Dude.\n",
      "Jude, say \"Yo!\" to G.\n",
      "Mr. Chips, say \"Good morning!\" to Miss Crabtree.\n",
      "G, say \"Goodbye!\" to Jude.\n",
      "World, say \"Goodbye!\" to Dude.\n",
      "Mr. Chips, say \"Hey!\" to Adrian.\n",
      "Adrian, say \"Goodbye!\" to Adrian.\n",
      "Jude, say \"Whattup?\" to Miss Crabtree.\n",
      "G, say \"Hi!\" to G.\n",
      "Mom, say \"Whattup?\" to Mom.\n",
      "G, say \"How's it going'?\" to Dude.\n",
      "Mom, say \"Goodbye!\" to Miss Crabtree.\n",
      "Miss Crabtree, say \"Yo!\" to G.\n",
      "Miss Crabtree, say \"Good morning!\" to World.\n",
      "Miss Crabtree, say \"Yo!\" to Mr. Chips.\n",
      "Mom, say \"Hello!\" to Adrian.\n",
      "Mom, say \"Hi!\" to Miss Crabtree.\n",
      "Adrian, say \"Whattup?\" to Miss Crabtree.\n",
      "Mom, say \"Hi!\" to G.\n",
      "Mom, say \"Hey!\" to Dude.\n",
      "Miss Crabtree, say \"Goodbye!\" to G.\n",
      "Mom, say \"Hey!\" to Dude.\n",
      "Dude, say \"Hello!\" to Adrian.\n",
      "G, say \"How's it going'?\" to Mom.\n",
      "Mr. Chips, say \"Hi!\" to Mr. Chips.\n",
      "World, say \"Hello!\" to Jude.\n",
      "Mr. Chips, say \"Goodbye!\" to Dude.\n"
     ]
    }
   ],
   "source": [
    "for i in range(50):\n",
    "    print('%s, say \"%s\" to %s.' % (random.choice( greetees ),\n",
    "                                   \"\".join( random.choice( salutes ) ),\n",
    "                                  random.choice( greetees ) ) )"
   ]
  },
  {
   "cell_type": "markdown",
   "metadata": {},
   "source": [
    "### Whitespace markers clutter and distract from the grammar definition "
   ]
  },
  {
   "cell_type": "code",
   "execution_count": 240,
   "metadata": {
    "collapsed": true
   },
   "outputs": [],
   "source": [
    "test = 'a(1,2,def,5)'"
   ]
  },
  {
   "cell_type": "code",
   "execution_count": 241,
   "metadata": {},
   "outputs": [
    {
     "name": "stdout",
     "output_type": "stream",
     "text": [
      "a(1,2,def,5)\n"
     ]
    }
   ],
   "source": [
    "print(test)"
   ]
  },
  {
   "cell_type": "code",
   "execution_count": 242,
   "metadata": {
    "collapsed": true
   },
   "outputs": [],
   "source": [
    "whitespace = Word(alphas)+\"(\"+Group( Optional(delimitedList(Word(nums)|Word(alphas)))) + \")\""
   ]
  },
  {
   "cell_type": "code",
   "execution_count": 243,
   "metadata": {},
   "outputs": [
    {
     "data": {
      "text/plain": [
       "(['a', '(', (['1', '2', 'def', '5'], {}), ')'], {})"
      ]
     },
     "execution_count": 243,
     "metadata": {},
     "output_type": "execute_result"
    }
   ],
   "source": [
    "whitespace.parseString(test)"
   ]
  },
  {
   "cell_type": "code",
   "execution_count": 244,
   "metadata": {
    "collapsed": true
   },
   "outputs": [],
   "source": [
    "test2 = 'abc(1, 2,def, 5)'"
   ]
  },
  {
   "cell_type": "code",
   "execution_count": 245,
   "metadata": {},
   "outputs": [
    {
     "data": {
      "text/plain": [
       "(['abc', '(', (['1', '2', 'def', '5'], {}), ')'], {})"
      ]
     },
     "execution_count": 245,
     "metadata": {},
     "output_type": "execute_result"
    }
   ],
   "source": [
    "whitespace.parseString(test2)"
   ]
  },
  {
   "cell_type": "code",
   "execution_count": 246,
   "metadata": {
    "collapsed": true
   },
   "outputs": [],
   "source": [
    "test3 = 'abc(a,def,def,130)'\n"
   ]
  },
  {
   "cell_type": "code",
   "execution_count": 247,
   "metadata": {},
   "outputs": [
    {
     "data": {
      "text/plain": [
       "(['abc', '(', (['a', 'def', 'def', '130'], {}), ')'], {})"
      ]
     },
     "execution_count": 247,
     "metadata": {},
     "output_type": "execute_result"
    }
   ],
   "source": [
    "whitespace.parseString(test3)"
   ]
  },
  {
   "cell_type": "code",
   "execution_count": 248,
   "metadata": {
    "collapsed": true
   },
   "outputs": [],
   "source": [
    "view = whitespace.parseString(test3)"
   ]
  },
  {
   "cell_type": "code",
   "execution_count": 249,
   "metadata": {},
   "outputs": [
    {
     "name": "stdout",
     "output_type": "stream",
     "text": [
      "['abc', '(', ['a', 'def', 'def', '130'], ')']\n"
     ]
    }
   ],
   "source": [
    "print(view)"
   ]
  },
  {
   "cell_type": "code",
   "execution_count": 250,
   "metadata": {},
   "outputs": [
    {
     "data": {
      "text/plain": [
       "pyparsing.ParseResults"
      ]
     },
     "execution_count": 250,
     "metadata": {},
     "output_type": "execute_result"
    }
   ],
   "source": [
    "type(view)"
   ]
  },
  {
   "cell_type": "markdown",
   "metadata": {},
   "source": [
    "\"You can see that the function arguments have been collected into their own sublist, making the extraction of hte function arguments easier during post-parsing analysis. If grammar definition includes results names, specific fields can be accessed by name instead of by error-prone list indexing.\n",
    "\n",
    "These higher-level access techniques are crucial to making sense of the results from a complex grammar\"\n",
    "\n"
   ]
  },
  {
   "cell_type": "markdown",
   "metadata": {
    "collapsed": true
   },
   "source": [
    "### Parsing Data from a Table --Using Parse Actions and ParseResults"
   ]
  },
  {
   "cell_type": "markdown",
   "metadata": {},
   "source": [
    "\"As our first example, let's look at a simple set of scores for college football games that might be given in a datafile\""
   ]
  },
  {
   "cell_type": "markdown",
   "metadata": {},
   "source": [
    "09/04/2004 Virginia\t\t 44  Temple\t\t          14<br>\n",
    "09/04/2004 LSU\t\t\t 22 Oregon State \t      21<br>\n",
    "09/09/2004 Troy State\t 24  Missouri             14<br>\n",
    "01/02/2003 Florida State 103  University of Miami  2<br>\t\t\n"
   ]
  },
  {
   "cell_type": "code",
   "execution_count": 251,
   "metadata": {
    "collapsed": true
   },
   "outputs": [],
   "source": [
    "tests=\"\"\"\\\n",
    "      09/04/2004 Virginia   44  Temple    14\n",
    "09/04/2004 LSU         22 Oregon State  21\n",
    "09/09/2004 Troy State    24  Missouri  14\n",
    "01/02/2003 Florida State    103  University of Miami 2\n",
    "\"\"\".splitlines()\n"
   ]
  },
  {
   "cell_type": "code",
   "execution_count": 252,
   "metadata": {},
   "outputs": [
    {
     "name": "stdout",
     "output_type": "stream",
     "text": [
      "['      09/04/2004 Virginia   44  Temple    14', '09/04/2004 LSU         22 Oregon State  21', '09/09/2004 Troy State    24  Missouri  14', '01/02/2003 Florida State    103  University of Miami 2']\n"
     ]
    }
   ],
   "source": [
    "print(tests)"
   ]
  },
  {
   "cell_type": "markdown",
   "metadata": {},
   "source": [
    "\"Our BNF for this data is simple and clean\""
   ]
  },
  {
   "cell_type": "markdown",
   "metadata": {},
   "source": [
    "digit      ::= '0'..'9'<br>\n",
    "alpha      ::= 'A'..'Z' 'a'..'z'<br>\n",
    "date       ::= digit+ '/' digit+ '/' digit+<br>\n",
    "schoolName ::= (alpha+ )+ <br>\n",
    "score      ::= digit+ <br>\n",
    "schoolAndScore  ::=schoolName score <br>\n",
    "gameResult ::= date schoolAndScore schoolAndScore"
   ]
  },
  {
   "cell_type": "code",
   "execution_count": 253,
   "metadata": {
    "collapsed": true
   },
   "outputs": [],
   "source": [
    "#nums and alphas are already defined by paparsing\n",
    "num = Word(nums)\n",
    "date = num + \"/\" + num + \"/\" + num\n",
    "schoolName = OneOrMore( Word(alphas) )\n",
    "#\"Notice that you can compose pyparsing expression using the + operator\n",
    "#to combine pyparsing expressions and string literals. Using these \n",
    "#basic elements, we can finish the grammar by combining them into larger\n",
    "#expressions:\"\n",
    "score = Word(nums)\n",
    "schoolAndScore = schoolName + score\n",
    "gameResult = date + schoolAndScore + schoolAndScore"
   ]
  },
  {
   "cell_type": "code",
   "execution_count": 254,
   "metadata": {},
   "outputs": [
    {
     "name": "stdout",
     "output_type": "stream",
     "text": [
      "['09', '/', '04', '/', '2004', 'Virginia', '44', 'Temple', '14']\n",
      "['09', '/', '04', '/', '2004', 'LSU', '22', 'Oregon', 'State', '21']\n",
      "['09', '/', '09', '/', '2004', 'Troy', 'State', '24', 'Missouri', '14']\n",
      "['01', '/', '02', '/', '2003', 'Florida', 'State', '103', 'University', 'of', 'Miami', '2']\n"
     ]
    }
   ],
   "source": [
    "for test in tests:\n",
    "    stats = gameResult.parseString(test)\n",
    "    print(stats.asList())\n"
   ]
  },
  {
   "cell_type": "markdown",
   "metadata": {},
   "source": [
    "It is important that in the delariation of the tests variable \n",
    "there is no space before each statement, \n",
    "otherwise * .parseString () will mark an error, since gameResult \n",
    "does not contain a first space in its formula."
   ]
  },
  {
   "cell_type": "markdown",
   "metadata": {
    "collapsed": true
   },
   "source": [
    "\"The first change we'll make is to combine the tokens returned by date into a single MM/DD/YYY date string. The pyparsing Combine does this for us by simply wrapping the composed expression:\""
   ]
  },
  {
   "cell_type": "code",
   "execution_count": 255,
   "metadata": {
    "collapsed": true
   },
   "outputs": [],
   "source": [
    "date = Combine( num + \"/\" + num + \"/\" + num )"
   ]
  },
  {
   "cell_type": "code",
   "execution_count": 256,
   "metadata": {
    "collapsed": true
   },
   "outputs": [],
   "source": [
    "num = Word(nums)\n",
    "date = Combine( num + \"/\" + num + \"/\" + num )\n",
    "schoolName = OneOrMore( Word(alphas) )\n",
    "score = Word(nums)\n",
    "schoolAndScore = schoolName + score\n",
    "gameResult = date + schoolAndScore + schoolAndScore"
   ]
  },
  {
   "cell_type": "code",
   "execution_count": 257,
   "metadata": {},
   "outputs": [
    {
     "name": "stdout",
     "output_type": "stream",
     "text": [
      "['09/04/2004', 'Virginia', '44', 'Temple', '14']\n",
      "['09/04/2004', 'LSU', '22', 'Oregon', 'State', '21']\n",
      "['09/09/2004', 'Troy', 'State', '24', 'Missouri', '14']\n",
      "['01/02/2003', 'Florida', 'State', '103', 'University', 'of', 'Miami', '2']\n"
     ]
    }
   ],
   "source": [
    "for test in tests:\n",
    "    stats = gameResult.parseString(test)\n",
    "    print(stats.asList())"
   ]
  },
  {
   "cell_type": "markdown",
   "metadata": {},
   "source": [
    "\"Combine actually perfoms two tasks for us. In addition to concatenating the matched tokens into a single string, it also enforces that the tokensare are adjacent in the incoming text\""
   ]
  },
  {
   "cell_type": "markdown",
   "metadata": {},
   "source": [
    "\"The next change to make will be to combine the school names, too. Because Combine's default behavior requires that the tokens be adjacent, we will not use it, since some of the school names have embedded spaces. Instead we'll define a routine to be run at parse time to join and return the tokens as a single string. As mentioned previously, such routines are referred to in pyparsing as parse actions, and they can perform a variety of functions during the parsing process.\""
   ]
  },
  {
   "cell_type": "code",
   "execution_count": 258,
   "metadata": {},
   "outputs": [
    {
     "data": {
      "text/plain": [
       "{W:(ABCD...)}..."
      ]
     },
     "execution_count": 258,
     "metadata": {},
     "output_type": "execute_result"
    }
   ],
   "source": [
    "schoolName.setParseAction( lambda tokens: \" \".join(tokens) )"
   ]
  },
  {
   "cell_type": "code",
   "execution_count": 259,
   "metadata": {
    "collapsed": true
   },
   "outputs": [],
   "source": [
    "num = Word(nums)\n",
    "date = Combine( num + \"/\" + num + \"/\" + num )\n",
    "schoolName.setParseAction( lambda tokens: \" \".join(tokens) )\n",
    "score = Word(nums)\n",
    "schoolAndScore = schoolName + score\n",
    "gameResult = date + schoolAndScore + schoolAndScore"
   ]
  },
  {
   "cell_type": "code",
   "execution_count": 260,
   "metadata": {},
   "outputs": [
    {
     "name": "stdout",
     "output_type": "stream",
     "text": [
      "['09/04/2004', 'Virginia', '44', 'Temple', '14']\n",
      "['09/04/2004', 'LSU', '22', 'Oregon State', '21']\n",
      "['09/09/2004', 'Troy State', '24', 'Missouri', '14']\n",
      "['01/02/2003', 'Florida State', '103', 'University of Miami', '2']\n"
     ]
    }
   ],
   "source": [
    "for test in tests:\n",
    "    stats = gameResult.parseString(test)\n",
    "    print(stats)"
   ]
  },
  {
   "cell_type": "code",
   "execution_count": 261,
   "metadata": {},
   "outputs": [
    {
     "name": "stdout",
     "output_type": "stream",
     "text": [
      "['01/02/2003', 'Florida State', '103', 'University of Miami', '2']\n"
     ]
    }
   ],
   "source": [
    "print(stats.asList())"
   ]
  },
  {
   "cell_type": "code",
   "execution_count": 262,
   "metadata": {
    "collapsed": true
   },
   "outputs": [],
   "source": [
    "lineDemon = \"     1    1   H    1s        0.0000     0.0000     0.0000    -0.0003     0.0000\""
   ]
  },
  {
   "cell_type": "code",
   "execution_count": 286,
   "metadata": {
    "collapsed": true
   },
   "outputs": [],
   "source": [
    "lineDemon1 = \"     1    1   H    1s        0.0000     0.0000        -0.0003     -122.0000\""
   ]
  },
  {
   "cell_type": "code",
   "execution_count": 283,
   "metadata": {
    "collapsed": true
   },
   "outputs": [],
   "source": [
    "num = Word(nums).suppress()\n",
    "atomInInput = Word(nums)\n",
    "atomSymbol = Word(alphas)\n",
    "orbitalSymbol = Word(alphanums)\n",
    "orbitalValues = OneOrMore(Combine(Optional(\"-\") + OneOrMore( Word( nums + \".\" + nums))) )\n",
    "lineOrbitalInfo = num + atomInInput + atomSymbol + orbitalSymbol + orbitalValues"
   ]
  },
  {
   "cell_type": "code",
   "execution_count": 288,
   "metadata": {},
   "outputs": [
    {
     "data": {
      "text/plain": [
       "[['1', 'H', '1s', '0.0000', '0.0000', '0.0000', '-0.0003', '0.0000'],\n",
       " ['1', 'H', '1s', '0.0000', '0.0000', '0.0000', '-0.0003', '0.0000'],\n",
       " ['1', 'H', '1s', '0.0000', '0.0000', '0.0000', '-0.0003', '0.0000'],\n",
       " ['1', 'H', '1s', '0.0000', '0.0000', '0.0000', '-0.0003', '0.0000'],\n",
       " ['1', 'H', '1s', '0.0000', '0.0000', '0.0000', '-0.0003', '0.0000'],\n",
       " ['1', 'H', '1s', '0.0000', '0.0000', '0.0000', '-0.0003', '0.0000'],\n",
       " ['1', 'H', '1s', '0.0000'],\n",
       " ['1', 'H', '1s', '0.0000', '0.0000', '-0.0003', '-122.0000']]"
      ]
     },
     "execution_count": 288,
     "metadata": {},
     "output_type": "execute_result"
    }
   ],
   "source": [
    "viewInfoOrbital88"
   ]
  },
  {
   "cell_type": "code",
   "execution_count": 287,
   "metadata": {},
   "outputs": [
    {
     "name": "stdout",
     "output_type": "stream",
     "text": [
      "[['1', 'H', '1s', '0.0000', '0.0000', '0.0000', '-0.0003', '0.0000'], ['1', 'H', '1s', '0.0000', '0.0000', '0.0000', '-0.0003', '0.0000'], ['1', 'H', '1s', '0.0000', '0.0000', '0.0000', '-0.0003', '0.0000'], ['1', 'H', '1s', '0.0000', '0.0000', '0.0000', '-0.0003', '0.0000'], ['1', 'H', '1s', '0.0000', '0.0000', '0.0000', '-0.0003', '0.0000'], ['1', 'H', '1s', '0.0000', '0.0000', '0.0000', '-0.0003', '0.0000'], ['1', 'H', '1s', '0.0000'], ['1', 'H', '1s', '0.0000', '0.0000', '-0.0003', '-122.0000']]\n"
     ]
    }
   ],
   "source": [
    "viewInfoOrbital88.append(lineOrbitalInfo.parseString(lineDemon1).asList())\n",
    "print(viewInfoOrbital88)"
   ]
  },
  {
   "cell_type": "code",
   "execution_count": 289,
   "metadata": {},
   "outputs": [
    {
     "data": {
      "text/plain": [
       "[['1', 'H', '1s', '0.0000', '0.0000', '0.0000', '-0.0003', '0.0000'],\n",
       " ['1', 'H', '1s', '0.0000', '0.0000', '0.0000', '-0.0003', '0.0000'],\n",
       " ['1', 'H', '1s', '0.0000', '0.0000', '0.0000', '-0.0003', '0.0000'],\n",
       " ['1', 'H', '1s', '0.0000', '0.0000', '0.0000', '-0.0003', '0.0000'],\n",
       " ['1', 'H', '1s', '0.0000', '0.0000', '0.0000', '-0.0003', '0.0000'],\n",
       " ['1', 'H', '1s', '0.0000', '0.0000', '0.0000', '-0.0003', '0.0000'],\n",
       " ['1', 'H', '1s', '0.0000'],\n",
       " ['1', 'H', '1s', '0.0000', '0.0000', '-0.0003', '-122.0000']]"
      ]
     },
     "execution_count": 289,
     "metadata": {},
     "output_type": "execute_result"
    }
   ],
   "source": [
    "viewInfoOrbital88"
   ]
  },
  {
   "cell_type": "code",
   "execution_count": 291,
   "metadata": {},
   "outputs": [
    {
     "ename": "NameError",
     "evalue": "name 'size' is not defined",
     "output_type": "error",
     "traceback": [
      "\u001b[0;31m---------------------------------------------------------------------------\u001b[0m",
      "\u001b[0;31mNameError\u001b[0m                                 Traceback (most recent call last)",
      "\u001b[0;32m<ipython-input-291-2eec975fa818>\u001b[0m in \u001b[0;36m<module>\u001b[0;34m()\u001b[0m\n\u001b[0;32m----> 1\u001b[0;31m \u001b[0msize\u001b[0m\u001b[0;34m(\u001b[0m\u001b[0mviewInfoOrbital88\u001b[0m\u001b[0;34m)\u001b[0m\u001b[0;34m\u001b[0m\u001b[0m\n\u001b[0m",
      "\u001b[0;31mNameError\u001b[0m: name 'size' is not defined"
     ]
    }
   ],
   "source": [
    "#sum(1 for x in a if isinstance(x, list))\n",
    "#from: https://stackoverflow.com/a/2059028/7896359\n",
    "#@Ignacio Vazquez-Abrams\n"
   ]
  },
  {
   "cell_type": "code",
   "execution_count": 293,
   "metadata": {},
   "outputs": [],
   "source": [
    "numListas = sum(1 for x in viewInfoOrbital88 if isinstance(x, list))"
   ]
  },
  {
   "cell_type": "code",
   "execution_count": 294,
   "metadata": {},
   "outputs": [
    {
     "name": "stdout",
     "output_type": "stream",
     "text": [
      "['1', 'H', '1s', '0.0000', '0.0000', '0.0000', '-0.0003', '0.0000']\n",
      "['1', 'H', '1s', '0.0000', '0.0000', '0.0000', '-0.0003', '0.0000']\n",
      "['1', 'H', '1s', '0.0000', '0.0000', '0.0000', '-0.0003', '0.0000']\n",
      "['1', 'H', '1s', '0.0000', '0.0000', '0.0000', '-0.0003', '0.0000']\n",
      "['1', 'H', '1s', '0.0000', '0.0000', '0.0000', '-0.0003', '0.0000']\n",
      "['1', 'H', '1s', '0.0000', '0.0000', '0.0000', '-0.0003', '0.0000']\n",
      "['1', 'H', '1s', '0.0000']\n",
      "['1', 'H', '1s', '0.0000', '0.0000', '-0.0003', '-122.0000']\n"
     ]
    }
   ],
   "source": [
    "for j in range(numListas):\n",
    "    print(viewInfoOrbital88[j])"
   ]
  },
  {
   "cell_type": "code",
   "execution_count": 267,
   "metadata": {
    "collapsed": true
   },
   "outputs": [],
   "source": [
    "lineDemon2 = \"     1    1   H    1s        12.0000     0.0000     0.0000    -0.0003     0.0000\""
   ]
  },
  {
   "cell_type": "code",
   "execution_count": 268,
   "metadata": {},
   "outputs": [
    {
     "ename": "IndexError",
     "evalue": "list assignment index out of range",
     "output_type": "error",
     "traceback": [
      "\u001b[0;31m---------------------------------------------------------------------------\u001b[0m",
      "\u001b[0;31mIndexError\u001b[0m                                Traceback (most recent call last)",
      "\u001b[0;32m<ipython-input-268-903f15889e5e>\u001b[0m in \u001b[0;36m<module>\u001b[0;34m()\u001b[0m\n\u001b[0;32m----> 1\u001b[0;31m \u001b[0mviewInfoOrbital99\u001b[0m\u001b[0;34m[\u001b[0m\u001b[0;36m1\u001b[0m\u001b[0;34m]\u001b[0m \u001b[0;34m=\u001b[0m \u001b[0mlineOrbitalInfo\u001b[0m\u001b[0;34m.\u001b[0m\u001b[0mparseString\u001b[0m\u001b[0;34m(\u001b[0m\u001b[0mlineDemon1\u001b[0m\u001b[0;34m)\u001b[0m\u001b[0;34m\u001b[0m\u001b[0m\n\u001b[0m\u001b[1;32m      2\u001b[0m \u001b[0mprint\u001b[0m\u001b[0;34m(\u001b[0m\u001b[0mviewInfoOrbital\u001b[0m\u001b[0;34m)\u001b[0m\u001b[0;34m\u001b[0m\u001b[0m\n",
      "\u001b[0;31mIndexError\u001b[0m: list assignment index out of range"
     ]
    }
   ],
   "source": [
    "viewInfoOrbital99[1] = lineOrbitalInfo.parseString(lineDemon1)\n",
    "print(viewInfoOrbital)"
   ]
  },
  {
   "cell_type": "code",
   "execution_count": null,
   "metadata": {
    "collapsed": true
   },
   "outputs": [],
   "source": []
  },
  {
   "cell_type": "code",
   "execution_count": null,
   "metadata": {
    "collapsed": true
   },
   "outputs": [],
   "source": [
    "#viewInfoOrbital.append('0.333')"
   ]
  },
  {
   "cell_type": "code",
   "execution_count": null,
   "metadata": {},
   "outputs": [],
   "source": [
    "#print(viewInfoOrbital)"
   ]
  },
  {
   "cell_type": "code",
   "execution_count": null,
   "metadata": {
    "collapsed": true
   },
   "outputs": [],
   "source": [
    "num = Word(nums)\n",
    "atomInInput = Word(nums)\n",
    "atomSymbol = Word(alphas)\n",
    "orbitalSymbol = Word(alphanums)\n",
    "orbitalValues = OneOrMore( Word(nums) )\n",
    "lineOrbitalInfo = num + atomInInput + atomSymbol + orbitalSymbol + orbitalValues\n"
   ]
  },
  {
   "cell_type": "code",
   "execution_count": null,
   "metadata": {},
   "outputs": [],
   "source": [
    "#viewInfoOrbital = lineOrbitalInfo.parseString(lineDemon)\n",
    "#print(viewInfoOrbital)"
   ]
  },
  {
   "cell_type": "code",
   "execution_count": null,
   "metadata": {
    "collapsed": true
   },
   "outputs": [],
   "source": []
  }
 ],
 "metadata": {
  "kernelspec": {
   "display_name": "Python 3",
   "language": "python",
   "name": "python3"
  },
  "language_info": {
   "codemirror_mode": {
    "name": "ipython",
    "version": 3
   },
   "file_extension": ".py",
   "mimetype": "text/x-python",
   "name": "python",
   "nbconvert_exporter": "python",
   "pygments_lexer": "ipython3",
   "version": "3.5.3"
  }
 },
 "nbformat": 4,
 "nbformat_minor": 2
}
